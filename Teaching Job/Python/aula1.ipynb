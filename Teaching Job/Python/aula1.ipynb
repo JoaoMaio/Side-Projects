{
 "cells": [
  {
   "cell_type": "code",
   "execution_count": null,
   "outputs": [],
   "source": [],
   "metadata": {
    "collapsed": false
   }
  },
  {
   "cell_type": "markdown",
   "metadata": {
    "collapsed": false,
    "jupyter": {
     "outputs_hidden": false
    }
   },
   "source": [
    "# Python\n",
    "\n",
    "## Origens e História:\n",
    "\n",
    "- ### Python foi criada por Guido van Rossum e teve sua primeira versão lançada em 1991.\n",
    "- ### Desenvolvida como uma linguagem de programação de propósito geral, com ênfase na legibilidade e simplicidade.\n",
    "\n",
    "---\n",
    "\n",
    "## Vantagens de Python:\n",
    "\n",
    "- ###  Simplicidade: Python tem uma sintaxe clara e simples, facilitando a leitura e escrita de código.\n",
    "- ###  Legibilidade: Seu código é fácil de entender, o que ajuda na manutenção e colaboração.\n",
    "- ###  Diversidade: Python é uma linguagem versátil usada em diversos campos, desde desenvolvimento web até ciência de dados.\n",
    "- ###  Ampla Comunidade: Existe uma grande comunidade de desenvolvedores Python, o que significa que há muitos recursos disponíveis e suporte online.\n",
    "- ###  Bibliotecas: Python possui uma vasta coleção de bibliotecas que facilitam a realização de diversas tarefas sem a necessidade de reinventar a roda.\n",
    "- ###  Portabilidade: Pode ser executado em diferentes plataformas como Windows, macOS e Linux.\n",
    "\n",
    "---\n",
    "## O que é que o Python pode fazer?\n",
    "\n",
    "- ### Python pode ser utilizado num servidor para criar aplicações Web.\n",
    "- ### Python pode ser utilizado juntamente com software para criar fluxos de trabalho.\n",
    "- ### Python pode ligar-se a sistemas de bases de dados. Também pode ler e modificar ficheiros.\n",
    "- ### Python pode ser utilizado para tratar grandes volumes de dados e efetuar cálculos matemáticos complexos.\n",
    "- ### Python pode ser utilizado para processar imagens, criar jogos e tarefas de inteligência artificial.\n",
    "- ### Python pode ser utilizado para fazer scripts de automação de tarefas.\n",
    "\n",
    "---"
   ]
  },
  {
   "cell_type": "markdown",
   "metadata": {
    "collapsed": false,
    "jupyter": {
     "outputs_hidden": false
    }
   },
   "source": [
    "# Tópicos a serem abordados:\n",
    "\n",
    "- #### Sintaxe: Python possui uma sintaxe clara e intuitiva, o que facilita a compreensão e a escrita de código. Isso é fundamental para iniciantes.\n",
    "- #### Variáveis e Tipos de Dados: Variáveis, tipos de dados e operadores.\n",
    "- #### Estruturas de Controle: condições (if, else) e loops (for, while).\n",
    "- #### Funções: Como definir e chamar funções.\n",
    "- #### Listas e Dicionários: listas (arrays) e dicionários (mapas). -> fundamentais para armazenar e manipular dados.\n",
    "- #### Tratamento de Exceções: Aprender a lidar com erros usando blocos try-except. -> evitar falhas inesperadas no programa.\n",
    "- #### Módulos e Bibliotecas: Aprender a importar módulos e usar bibliotecas externas para expandir as funcionalidades do Python.\n",
    "- #### Orientação a Objetos: Introduza conceitos básicos de programação orientada a objetos (classes e objetos).\n",
    "- #### Manipulação de Arquivos: Ler e escrever arquivos em Python."
   ]
  },
  {
   "cell_type": "markdown",
   "metadata": {
    "collapsed": false,
    "jupyter": {
     "outputs_hidden": false
    }
   },
   "source": [
    "---\n",
    "\n",
    "### Variáveis em Python\n",
    "\n",
    "Em Python, as variáveis são dinamicamente tipadas. Ou seja não precisamos de declarar explicitamente o tipo de uma variável quando a criamos.\n",
    "O tipo de uma variável é inferido a partir do valor que é atribuido."
   ]
  },
  {
   "cell_type": "code",
   "execution_count": 1,
   "metadata": {
    "collapsed": false,
    "jupyter": {
     "outputs_hidden": false
    },
    "ExecuteTime": {
     "end_time": "2024-05-11T10:33:45.087273700Z",
     "start_time": "2024-05-11T10:33:44.697275300Z"
    }
   },
   "outputs": [
    {
     "name": "stdout",
     "output_type": "stream",
     "text": [
      "1\n",
      "2.3\n",
      "texto\n",
      "True\n",
      "[1, 2, 3, 4, 5]\n"
     ]
    }
   ],
   "source": [
    "a = 1\n",
    "b = 2.3\n",
    "c = \"texto\"\n",
    "d = True\n",
    "e = [1,2,3,4,5]\n",
    "\n",
    "print(a)\n",
    "print(b)\n",
    "print(c)\n",
    "print(d)\n",
    "print(e)"
   ]
  },
  {
   "cell_type": "markdown",
   "metadata": {
    "collapsed": false,
    "jupyter": {
     "outputs_hidden": false
    }
   },
   "source": [
    "---\n",
    "Se quisermos saber o tipo de uma variável podemos usar a função type(). Esta função retorna o tipo da variável que lhe é passada dentro dos parênteses."
   ]
  },
  {
   "cell_type": "code",
   "execution_count": 2,
   "metadata": {
    "collapsed": false,
    "jupyter": {
     "outputs_hidden": false
    },
    "ExecuteTime": {
     "end_time": "2024-05-11T10:33:45.087273700Z",
     "start_time": "2024-05-11T10:33:44.697275300Z"
    }
   },
   "outputs": [
    {
     "name": "stdout",
     "output_type": "stream",
     "text": [
      "1 | tem o tipo -> <class 'int'>\n",
      "2.3 | tem o tipo -> <class 'float'>\n",
      "texto | tem o tipo -> <class 'str'>\n",
      "True | tem o tipo -> <class 'bool'>\n",
      "[1, 2, 3, 4, 5] | tem o tipo -> <class 'list'>\n"
     ]
    }
   ],
   "source": [
    "print(a , \"| tem o tipo ->\" , type(a))\n",
    "print(b , \"| tem o tipo ->\" , type(b))\n",
    "print(c , \"| tem o tipo ->\" , type(c))\n",
    "print(d , \"| tem o tipo ->\" , type(d))\n",
    "print(e , \"| tem o tipo ->\" , type(e))"
   ]
  },
  {
   "cell_type": "markdown",
   "metadata": {
    "collapsed": false,
    "jupyter": {
     "outputs_hidden": false
    }
   },
   "source": [
    "---\n",
    "# Sintaxe básica de Python\n",
    "\n",
    "- ### Python é uma linguagem de programação de alto nível, o que significa que é fácil de ler e escrever.\n",
    "- ### A sintaxe de Python é simples e limpa, o que a torna ideal para iniciantes.\n",
    "\n",
    "#### Para fazermos um comentário basta:"
   ]
  },
  {
   "cell_type": "code",
   "execution_count": 3,
   "metadata": {
    "collapsed": false,
    "jupyter": {
     "outputs_hidden": false
    },
    "ExecuteTime": {
     "end_time": "2024-05-11T10:33:45.087273700Z",
     "start_time": "2024-05-11T10:33:44.697275300Z"
    }
   },
   "outputs": [
    {
     "data": {
      "text/plain": "'\\nIsto é um comentário\\nde várias linhas\\n'"
     },
     "execution_count": 3,
     "metadata": {},
     "output_type": "execute_result"
    }
   ],
   "source": [
    "# Comentários em Python\n",
    "# Isto é um comentário de uma linha\n",
    "\n",
    "\"\"\"\n",
    "Isto é um comentário\n",
    "de várias linhas\n",
    "\"\"\"\n"
   ]
  },
  {
   "cell_type": "markdown",
   "metadata": {
    "collapsed": false,
    "jupyter": {
     "outputs_hidden": false
    }
   },
   "source": [
    "---\n",
    "Se quisermos imprimir uma mensagem no ecrã podemos usar a função print().\n"
   ]
  },
  {
   "cell_type": "code",
   "execution_count": 4,
   "metadata": {
    "collapsed": false,
    "jupyter": {
     "outputs_hidden": false
    },
    "ExecuteTime": {
     "end_time": "2024-05-11T10:33:45.107273800Z",
     "start_time": "2024-05-11T10:33:44.707269400Z"
    }
   },
   "outputs": [
    {
     "name": "stdout",
     "output_type": "stream",
     "text": [
      "Olá, Mundo!\n",
      "1\n",
      "O valor de a é: 10!!!!!!!!!!!!!!!!!10\n"
     ]
    }
   ],
   "source": [
    "# Para Imprimir uma mensagem normal, basta colocar a mensagem entre aspas\n",
    "print(\"Olá, Mundo!\")\n",
    "\n",
    "# Se quisermos imprimir o valor de uma variável, basta passar a variável como argumento da função\n",
    "print(a)\n",
    "\n",
    "# Se quisermos imprimir o valor de uma variável e uma mensagem, podemos concatenar o valor da variável com a mensagem\n",
    "# Para isso basta usar o sinal de adição (+) para concatenar a mensagem\n",
    "# E necessitamos de converter a variável para string, para que possa ser concatenada com a mensagem\n",
    "a = 10\n",
    "print(\"O valor de a é: \" + str(a) + \"!!!!!!!!!!!!!!!!!\" + str(a))"
   ]
  },
  {
   "cell_type": "markdown",
   "metadata": {
    "collapsed": false,
    "jupyter": {
     "outputs_hidden": false
    }
   },
   "source": [
    "---\n",
    "### Input\n",
    "\n",
    "- #### Para receber uma entrada do usuário, podemos usar a função input().\n",
    "- #### A função input() retorna uma string.\n",
    "- #### Se quisermos receber um número, precisamos converter a string para o tipo que queremos usando int() ou float() ou outro tipo.\n",
    "- #### Se quisermos receber um número inteiro, usamos int(input()).\n"
   ]
  },
  {
   "cell_type": "code",
   "execution_count": 5,
   "metadata": {
    "collapsed": false,
    "jupyter": {
     "outputs_hidden": false
    },
    "ExecuteTime": {
     "end_time": "2024-05-11T10:33:46.986927800Z",
     "start_time": "2024-05-11T10:33:44.717271800Z"
    }
   },
   "outputs": [
    {
     "name": "stdout",
     "output_type": "stream",
     "text": [
      "O número digitado foi: 2\n"
     ]
    }
   ],
   "source": [
    "numero = int( input(\"Digite um número: \") )\n",
    "print(\"O número digitado foi: \" + str(numero))"
   ]
  },
  {
   "cell_type": "markdown",
   "metadata": {
    "collapsed": false,
    "jupyter": {
     "outputs_hidden": false
    }
   },
   "source": [
    "---\n",
    "## If\n",
    "\n",
    "- #### O Python usa a palavra-chave if para executar uma instrução se uma condição for verdadeira.\n",
    "- #### Se a condição for falsa, o bloco de código não será executado.\n",
    "- #### Se a condição for verdadeira, o bloco de código será executado.\n",
    "- #### O bloco de código é definido pela indentação.\n",
    "- #### A indentação é fundamental em Python, pois define o bloco de código que será executado.\n",
    "- #### A indentação padrão é de 1 tab (tecla por cima da tecla Caps Lock)\n",
    "- #### Ou seja, tudo o que é para ser executado dentro do if tem estar indentado com 1 tab.\n",
    "- #### Se quisermos que algo seja executado fora do if, basta não indentar."
   ]
  },
  {
   "cell_type": "code",
   "execution_count": 6,
   "metadata": {
    "collapsed": false,
    "jupyter": {
     "outputs_hidden": false
    },
    "ExecuteTime": {
     "end_time": "2024-05-11T10:33:47.090116600Z",
     "start_time": "2024-05-11T10:33:46.856919900Z"
    }
   },
   "outputs": [
    {
     "name": "stdout",
     "output_type": "stream",
     "text": [
      "Só é executado quando a condição é verdadeira\n",
      "Isto é Sempre executado\n"
     ]
    }
   ],
   "source": [
    "# If\n",
    "if(5 > 3):\n",
    "    print(\"Só é executado quando a condição é verdadeira\")\n",
    "\n",
    "print(\"Isto é Sempre executado\")"
   ]
  },
  {
   "cell_type": "markdown",
   "metadata": {
    "collapsed": false,
    "jupyter": {
     "outputs_hidden": false
    }
   },
   "source": [
    "---\n",
    "### If Else\n",
    "\n",
    "- #### O Python usa a palavra-chave else para executar um bloco de código se a condição for falsa.\n",
    "- #### O bloco de código também é definido pela indentação.\n",
    "- #### E é usado após o bloco de código do if.\n"
   ]
  },
  {
   "cell_type": "code",
   "execution_count": 7,
   "metadata": {
    "collapsed": false,
    "jupyter": {
     "outputs_hidden": false
    },
    "ExecuteTime": {
     "end_time": "2024-05-11T10:33:47.100102800Z",
     "start_time": "2024-05-11T10:33:46.866920800Z"
    }
   },
   "outputs": [
    {
     "name": "stdout",
     "output_type": "stream",
     "text": [
      "num2 é maior que num1\n"
     ]
    }
   ],
   "source": [
    "# If Else\n",
    "\n",
    "num1 = 2\n",
    "num2 = 3\n",
    "\n",
    "if num1 > num2:\n",
    "    print(\"num1 é maior que num2\")\n",
    "else:\n",
    "    print(\"num2 é maior que num1\")\n"
   ]
  },
  {
   "cell_type": "markdown",
   "metadata": {
    "collapsed": false,
    "jupyter": {
     "outputs_hidden": false
    }
   },
   "source": [
    "---\n",
    "### Elif\n",
    "\n",
    "### O Elif é uma abreviação de \"else if\".\n",
    "### Ou seja, em vez de escrevermos else if, apenas escrevemos elif."
   ]
  },
  {
   "cell_type": "code",
   "execution_count": 8,
   "metadata": {
    "collapsed": false,
    "jupyter": {
     "outputs_hidden": false
    },
    "ExecuteTime": {
     "end_time": "2024-05-11T10:33:47.120118300Z",
     "start_time": "2024-05-11T10:33:46.876919100Z"
    }
   },
   "outputs": [
    {
     "name": "stdout",
     "output_type": "stream",
     "text": [
      "num1 é igual a num2\n"
     ]
    }
   ],
   "source": [
    "# Elif\n",
    "\n",
    "num1 = 20\n",
    "num2 = 20\n",
    "\n",
    "if num1 > num2:\n",
    "    print(\"num1 é maior que num2\")\n",
    "elif num1 == num2:\n",
    "    print(\"num1 é igual a num2\")\n",
    "else:\n",
    "    print(\"num2 é maior que num1\")\n"
   ]
  },
  {
   "cell_type": "markdown",
   "metadata": {
    "collapsed": false,
    "jupyter": {
     "outputs_hidden": false
    }
   },
   "source": [
    "#### Elif é o mesmo que isto:"
   ]
  },
  {
   "cell_type": "code",
   "execution_count": 9,
   "metadata": {
    "collapsed": false,
    "jupyter": {
     "outputs_hidden": false
    },
    "ExecuteTime": {
     "end_time": "2024-05-11T10:33:47.120118300Z",
     "start_time": "2024-05-11T10:33:46.886917600Z"
    }
   },
   "outputs": [
    {
     "name": "stdout",
     "output_type": "stream",
     "text": [
      "num1 é igual a num2\n"
     ]
    }
   ],
   "source": [
    "num1 = 20\n",
    "num2 = 20\n",
    "\n",
    "if num1 > num2:\n",
    "    print(\"num1 é maior que num2\")\n",
    "else:\n",
    "    if num1 == num2:\n",
    "        print(\"num1 é igual a num2\")\n",
    "    else:\n",
    "        print(\"num2 é maior que num1\")"
   ]
  },
  {
   "cell_type": "markdown",
   "metadata": {
    "collapsed": false,
    "jupyter": {
     "outputs_hidden": false
    }
   },
   "source": [
    "---\n",
    "### Switch Case\n",
    "\n",
    "- #### Python não possui um comando switch case como em outras linguagens de programação.\n",
    "- #### No entanto, podemos usar o match case para realizar operações semelhantes ao switch case.\n",
    "- #### O match case foi introduzido no Python 3.10.\n",
    "- #### O match case é uma expressão condicional que compara um valor com várias opções."
   ]
  },
  {
   "cell_type": "code",
   "execution_count": 10,
   "metadata": {
    "collapsed": false,
    "jupyter": {
     "outputs_hidden": false
    },
    "ExecuteTime": {
     "end_time": "2024-05-11T10:33:48.687830100Z",
     "start_time": "2024-05-11T10:33:46.896920500Z"
    }
   },
   "outputs": [
    {
     "name": "stdout",
     "output_type": "stream",
     "text": [
      "Olá, Mundo!\n",
      "Isto é um teste\n"
     ]
    }
   ],
   "source": [
    "texto = input(\"Digite um texto: \")\n",
    "\n",
    "match texto:\n",
    "    case \"ola\":\n",
    "         print(\"Olá, Mundo!\")\n",
    "         print(\"Isto é um teste\")\n",
    "    case \"adeus\":\n",
    "            print(\"Adeus, Mundo!\")\n",
    "    case \"python\":\n",
    "            print(\"Python é uma linguagem de programação\")\n",
    "    case \"java\":\n",
    "            print(\"Java é outra linguagem de programação\")\n",
    "    case \"c\":\n",
    "            print(\"C é outra linguagem de programação\")\n",
    "    case _:\n",
    "        print(\"Texto inválido\")\n"
   ]
  },
  {
   "cell_type": "markdown",
   "metadata": {
    "collapsed": false,
    "jupyter": {
     "outputs_hidden": false
    }
   },
   "source": [
    "---\n",
    "### Loops\n",
    "\n",
    "- #### Em Python, existem dois tipos de loops: while e for.\n",
    "- #### O loop while executa um bloco de código enquanto a condição for verdadeira.\n",
    "- #### O loop for executa um bloco de código para cada item de uma sequência.\n",
    "- #### A indentação também é fundamental para definir o bloco de código que será executado no loop.\n"
   ]
  },
  {
   "cell_type": "code",
   "execution_count": 11,
   "metadata": {
    "collapsed": false,
    "jupyter": {
     "outputs_hidden": false
    },
    "ExecuteTime": {
     "end_time": "2024-05-11T10:33:48.687830100Z",
     "start_time": "2024-05-11T10:33:48.561694300Z"
    }
   },
   "outputs": [
    {
     "name": "stdout",
     "output_type": "stream",
     "text": [
      "1\n",
      "2\n",
      "3\n",
      "4\n",
      "5\n",
      "final\n"
     ]
    }
   ],
   "source": [
    "# While\n",
    "i = 1\n",
    "while i < 6:\n",
    "    print(i)\n",
    "    i += 1\n",
    "\n",
    "print(\"final\")\n"
   ]
  },
  {
   "cell_type": "markdown",
   "metadata": {
    "collapsed": false,
    "jupyter": {
     "outputs_hidden": false
    }
   },
   "source": [
    "# For\n",
    "\n",
    "- #### O loop for é usado para passar sobre uma sequência"
   ]
  },
  {
   "cell_type": "code",
   "execution_count": 12,
   "metadata": {
    "collapsed": false,
    "jupyter": {
     "outputs_hidden": false
    },
    "ExecuteTime": {
     "end_time": "2024-05-11T10:33:48.687830100Z",
     "start_time": "2024-05-11T10:33:48.567842300Z"
    }
   },
   "outputs": [
    {
     "name": "stdout",
     "output_type": "stream",
     "text": [
      "maçã\n",
      "banana\n",
      "cereja\n"
     ]
    }
   ],
   "source": [
    "# For com uma lista\n",
    "# Este for vai passar por cada elemento da lista e imprimir o elemento\n",
    "\n",
    "frutas = [\"maçã\", \"banana\", \"cereja\"]\n",
    "\n",
    "for elemento in frutas:\n",
    "    print(elemento)"
   ]
  },
  {
   "cell_type": "markdown",
   "metadata": {
    "collapsed": false,
    "jupyter": {
     "outputs_hidden": false
    }
   },
   "source": []
  },
  {
   "cell_type": "code",
   "execution_count": 13,
   "metadata": {
    "collapsed": false,
    "jupyter": {
     "outputs_hidden": false
    },
    "ExecuteTime": {
     "end_time": "2024-05-11T10:33:48.687830100Z",
     "start_time": "2024-05-11T10:33:48.577853700Z"
    }
   },
   "outputs": [
    {
     "name": "stdout",
     "output_type": "stream",
     "text": [
      "0\n",
      "1\n",
      "2\n",
      "3\n",
      "4\n",
      "5\n"
     ]
    }
   ],
   "source": [
    "#For com o range\n",
    "# O range() é uma função que retorna uma sequência de números\n",
    "# Se só dermos um numero como argumento, o range() vai fazer uma sequência de números de 0 até o número que lhe foi passado\n",
    "\n",
    "for x in range(6):\n",
    "    print(x)"
   ]
  },
  {
   "cell_type": "code",
   "execution_count": 14,
   "metadata": {
    "collapsed": false,
    "jupyter": {
     "outputs_hidden": false
    },
    "ExecuteTime": {
     "end_time": "2024-05-11T10:33:48.697826200Z",
     "start_time": "2024-05-11T10:33:48.587856400Z"
    }
   },
   "outputs": [
    {
     "name": "stdout",
     "output_type": "stream",
     "text": [
      "2\n",
      "3\n",
      "4\n",
      "5\n"
     ]
    }
   ],
   "source": [
    "# Se dermos dois números como argumento, o range() vai fazer uma sequência de números do primeiro número até ao segundo número\n",
    "for x in range(2, 6):\n",
    "    print(x)"
   ]
  },
  {
   "cell_type": "code",
   "execution_count": 1,
   "metadata": {
    "collapsed": false,
    "jupyter": {
     "outputs_hidden": false
    },
    "ExecuteTime": {
     "end_time": "2024-05-12T11:58:01.438378900Z",
     "start_time": "2024-05-12T11:58:01.427379300Z"
    }
   },
   "outputs": [
    {
     "name": "stdout",
     "output_type": "stream",
     "text": [
      "2\n",
      "6\n",
      "10\n",
      "14\n",
      "18\n",
      "22\n",
      "26\n"
     ]
    }
   ],
   "source": [
    "# Se dermos três números como argumento, o range() vai fazer uma sequência de números do primeiro número até ao segundo número, com um incremento igual ao terceiro número\n",
    "for x in range(2, 30, 4):\n",
    "    print(x)"
   ]
  },
  {
   "cell_type": "markdown",
   "metadata": {
    "collapsed": false,
    "jupyter": {
     "outputs_hidden": false
    }
   },
   "source": [
    "---\n",
    "."
   ]
  },
  {
   "cell_type": "markdown",
   "source": [],
   "metadata": {
    "collapsed": false
   }
  },
  {
   "cell_type": "markdown",
   "source": [
    "# Funções\n",
    "\n",
    "## Uma função é um bloco de código reutilizável que realiza uma tarefa específica.\n",
    "## São uma maneira eficiente de organizar e dividir o seu código, tornando-o mais legívele fácil de entender.\n",
    "\n",
    "### Por que usar funções?\n",
    "- ### Reutilização de código: Podemos definir uma função 1 vez e chamá-la quantas vezes precisarmos no nosso código, em vez de repetir o mesmo bloco de código várias vezes.\n",
    "- ### Organização: Funções permitem dividir o código em partes menores e mais gerenciáveis, facilitando a compreensão do funcionamento do programa como um todo.\n",
    "- ### Abstração: Ao usar funções, você pode abstrair detalhes complicados e focar apenas na funcionalidade que está sendo implementada.\n",
    "\n",
    "### Como criar uma função em Python?\n",
    "\n",
    "- ### Para criar uma função em Python, usamos a palavra-chave def, seguida pelo nome da função e parênteses.\n",
    "- ### Dentro dos parênteses, podemos passar argumentos que a função pode receber.\n",
    "- ### O bloco de código da função é definido pela indentação tal como o if, else, for, while\n",
    "- ### Se quisermos retornar um valor de uma função, usamos a palavra-chave return.\n",
    "- ### Se não quisermos retornar nada, podemos esquecer o return.\n"
   ],
   "metadata": {
    "collapsed": false
   }
  },
  {
   "cell_type": "code",
   "execution_count": 16,
   "outputs": [
    {
     "name": "stdout",
     "output_type": "stream",
     "text": [
      "Olá, Mundo!\n",
      "O resultado é: 55555555555555\n"
     ]
    }
   ],
   "source": [
    "# Definir uma função\n",
    "def olaMundo():\n",
    "    print(\"Olá, Mundo!\")\n",
    "    return 55555555555555\n",
    "\n",
    "resultado = olaMundo()\n",
    "print(\"O resultado é:\", resultado)\n"
   ],
   "metadata": {
    "collapsed": false,
    "ExecuteTime": {
     "end_time": "2024-05-11T10:33:48.697826200Z",
     "start_time": "2024-05-11T10:33:48.607853500Z"
    }
   }
  },
  {
   "cell_type": "markdown",
   "source": [
    "\n",
    "### Argumentos\n",
    "\n",
    "- ### Podemos passar argumentos para uma função, que são valores que a função pode usar para realizar uma tarefa.\n",
    "- ### Os argumentos são passados entre os parênteses da função.\n",
    "- ### Podemos passar quantos argumentos quisermos, separados por vírgulas.\n",
    "- ### Os argumentos são passados por ordem, ou seja, o primeiro argumento é o primeiro valor passado, o segundo argumento é o segundo valor passado, e assim por diante.\n",
    "- ### Se quisermos passar um valor específico para um argumento, podemos passar o valor diretamente, ou passar o nome do argumento e o valor.\n"
   ],
   "metadata": {
    "collapsed": false
   }
  },
  {
   "cell_type": "code",
   "execution_count": 17,
   "outputs": [
    {
     "ename": "TypeError",
     "evalue": "saudacao() missing 1 required positional argument: 'nome'",
     "output_type": "error",
     "traceback": [
      "\u001B[1;31m---------------------------------------------------------------------------\u001B[0m",
      "\u001B[1;31mTypeError\u001B[0m                                 Traceback (most recent call last)",
      "Cell \u001B[1;32mIn[17], line 5\u001B[0m\n\u001B[0;32m      2\u001B[0m \u001B[38;5;28;01mdef\u001B[39;00m \u001B[38;5;21msaudacao\u001B[39m(nome):\n\u001B[0;32m      3\u001B[0m     \u001B[38;5;28mprint\u001B[39m(\u001B[38;5;124m\"\u001B[39m\u001B[38;5;124mOlá, \u001B[39m\u001B[38;5;124m\"\u001B[39m \u001B[38;5;241m+\u001B[39m nome)\n\u001B[1;32m----> 5\u001B[0m \u001B[43msaudacao\u001B[49m\u001B[43m(\u001B[49m\u001B[43m)\u001B[49m\n\u001B[0;32m      7\u001B[0m saudacao(\u001B[38;5;124m\"\u001B[39m\u001B[38;5;124mJoão\u001B[39m\u001B[38;5;124m\"\u001B[39m)\n",
      "\u001B[1;31mTypeError\u001B[0m: saudacao() missing 1 required positional argument: 'nome'"
     ]
    }
   ],
   "source": [
    "# Função com argumentos\n",
    "def saudacao(nome):\n",
    "    print(\"Olá, \" + nome)\n",
    "\n",
    "saudacao()\n",
    "\n",
    "saudacao(\"João\")\n"
   ],
   "metadata": {
    "collapsed": false,
    "ExecuteTime": {
     "end_time": "2024-05-11T10:33:48.926730Z",
     "start_time": "2024-05-11T10:33:48.617853900Z"
    }
   }
  },
  {
   "cell_type": "markdown",
   "source": [
    "\n",
    "### Argumentos Padrão\n",
    "\n",
    "- ### Podemos definir um valor padrão para um argumento, que é o valor que a função usará se nenhum valor for passado para esse argumento.\n",
    "- ### Para definir um valor padrão, usamos o sinal de igual (=) seguido pelo valor padrão.\n",
    "- ### Se um valor for passado para o argumento, ele substituirá o valor padrão.\n",
    "- ### Se não for passado nenhum valor, a função usará o valor padrão.\n",
    "- ### Os argumentos com valor padrão devem ser os últimos argumentos da função.\n",
    "- ### Se tentarmos passar um valor para um argumento com valor padrão, mas não passarmos um valor para o argumento anterior, obteremos um erro.\n"
   ],
   "metadata": {
    "collapsed": false
   }
  },
  {
   "cell_type": "code",
   "execution_count": null,
   "outputs": [],
   "source": [
    "# Argumentos padrão\n",
    "\n",
    "def saudacao(nome = \"Mundo\"):\n",
    "    print(\"Olá, \" + nome)\n",
    "\n",
    "saudacao(\"Carlos\")\n",
    "saudacao()"
   ],
   "metadata": {
    "collapsed": false
   }
  },
  {
   "cell_type": "markdown",
   "source": [],
   "metadata": {
    "collapsed": false
   }
  },
  {
   "cell_type": "code",
   "execution_count": null,
   "outputs": [],
   "source": [
    "def calcular_media(num1, num2, num3):\n",
    "    return (num1 + num2 + num3) / 3\n",
    "\n",
    "# Exemplo de uso:\n",
    "nota1 = float(input(\"Digite a primeira nota: \"))\n",
    "nota2 = float(input(\"Digite a segunda nota: \"))\n",
    "nota3 = float(input(\"Digite a terceira nota: \"))\n",
    "\n",
    "media = calcular_media(nota1, nota2, nota3)\n",
    "print(\"A média é:\", media)\n"
   ],
   "metadata": {
    "collapsed": false
   }
  },
  {
   "cell_type": "code",
   "execution_count": null,
   "outputs": [],
   "source": [
    "def verificar_paridade(numero):\n",
    "    if numero % 2 == 0:\n",
    "        return \"par\"\n",
    "    else:\n",
    "        return \"ímpar\"\n",
    "\n",
    "# Exemplo de uso:\n",
    "num = int(input(\"Digite um número: \"))\n",
    "resultado = verificar_paridade(num)\n",
    "print(\"O número é\", resultado)\n"
   ],
   "metadata": {
    "collapsed": false
   }
  },
  {
   "cell_type": "code",
   "execution_count": null,
   "outputs": [],
   "source": [
    "def celsius_para_fahrenheit(celsius):\n",
    "    return (celsius * 9/5) + 32\n",
    "\n",
    "# Exemplo de uso:\n",
    "temp_celsius = float(input(\"Digite a temperatura em Celsius: \"))\n",
    "temp_fahrenheit = celsius_para_fahrenheit(temp_celsius)\n",
    "print(\"A temperatura em Fahrenheit é:\", temp_fahrenheit)\n"
   ],
   "metadata": {
    "collapsed": false
   }
  },
  {
   "cell_type": "code",
   "execution_count": null,
   "outputs": [],
   "source": [
    "def verificar_palindromo(palavra):\n",
    "    palavra = palavra.lower()  # Converter para minúsculas\n",
    "    return palavra == palavra[::-1]\n",
    "\n",
    "# Exemplo de uso:\n",
    "palavra = input(\"Digite uma palavra: \")\n",
    "if verificar_palindromo(palavra):\n",
    "    print(\"É um palíndromo!\")\n",
    "else:\n",
    "    print(\"Não é um palíndromo.\")\n"
   ],
   "metadata": {
    "collapsed": false
   }
  },
  {
   "cell_type": "markdown",
   "source": [
    "---\n",
    "### Listas\n",
    "\n",
    "- ### Uma lista é uma coleção de valores do  mesmo ou de diferentes tipos (apesar de não ser recomendado ter diferentes tipos na mesma lista).\n",
    "- ### Em Python, as listas são definidas entre parenteses retos [].\n",
    "- ### Os valores da lista são separados por vírgulas."
   ],
   "metadata": {
    "collapsed": false
   }
  },
  {
   "cell_type": "code",
   "execution_count": null,
   "outputs": [],
   "source": [
    "minha_lista = [10, 22, 5, 9, 1]\n",
    "print(minha_lista)"
   ],
   "metadata": {
    "collapsed": false
   }
  },
  {
   "cell_type": "markdown",
   "source": [
    "### Para aceder a elementos individuais de uma lista usamos os índices.\n",
    "### Os índices em Python começam por 0.\n",
    "### Exemplo:\n",
    "    lista : [10, 22, 5, 9, 1]\n",
    "    indice: [0, 1, 2, 3, 4]\n",
    "### Por exemplo, para acessar o primeiro elemento da lista minha_lista seria:"
   ],
   "metadata": {
    "collapsed": false
   }
  },
  {
   "cell_type": "code",
   "execution_count": null,
   "outputs": [],
   "source": [
    "primeiro_elemento = minha_lista[4]\n",
    "print(primeiro_elemento)"
   ],
   "metadata": {
    "collapsed": false
   }
  },
  {
   "cell_type": "markdown",
   "source": [
    "### Também podemos usar índices negativos para aceder a elementos a partir do final da lista.\n",
    "### Por exemplo, -1 refere-se ao último elemento, -2 ao penúltimo, e assim por diante.\n"
   ],
   "metadata": {
    "collapsed": false
   }
  },
  {
   "cell_type": "code",
   "execution_count": null,
   "outputs": [],
   "source": [
    "minha_lista = [10, 22, 5, 9, 1]\n",
    "ultimo_elemento = minha_lista[-1]\n",
    "penultimo_elemento = minha_lista[-2]\n",
    "print(ultimo_elemento)\n",
    "print(penultimo_elemento)"
   ],
   "metadata": {
    "collapsed": false
   }
  },
  {
   "cell_type": "markdown",
   "source": [
    "### As listas em Python são mutáveis, o que significa que podem ser alteradas depois de serem criadas.\n",
    "### Por exemplo, para modificar o segundo elemento da lista minha_lista:"
   ],
   "metadata": {
    "collapsed": false
   }
  },
  {
   "cell_type": "code",
   "execution_count": null,
   "outputs": [],
   "source": [
    "minha_lista = [10, 22, 5, 9, 1]\n",
    "##             0   1   2  3  4\n",
    "print(minha_lista[1])\n",
    "minha_lista[1] = 10\n",
    "print(minha_lista[1])\n",
    "print(minha_lista)"
   ],
   "metadata": {
    "collapsed": false
   }
  },
  {
   "cell_type": "markdown",
   "source": [
    "### Podemos adicionar elementos a uma lista usando o método append():\n",
    "### O método append() adiciona sempre o elemento no final da lista.\n",
    "### Por exemplo, se quisermos adicionar o numero 6 fazemos:"
   ],
   "metadata": {
    "collapsed": false
   }
  },
  {
   "cell_type": "code",
   "execution_count": null,
   "outputs": [],
   "source": [
    "minha_lista = [10, 22, 5, 9, 1]\n",
    "print(minha_lista)\n",
    "minha_lista.append(6)\n",
    "print(minha_lista)"
   ],
   "metadata": {
    "collapsed": false
   }
  },
  {
   "cell_type": "markdown",
   "source": [
    "### Podemos usar o método insert() para adicionar um elemento numa posição específica da lista.\n",
    "### O método insert() recebe dois argumentos: o índice onde queremos adicionar o elemento e o elemento que queremos adicionar.\n",
    "### Por exemplo, se quisermos adicionar o número 4 no indice 1 da lista fazemos:"
   ],
   "metadata": {
    "collapsed": false
   }
  },
  {
   "cell_type": "code",
   "execution_count": null,
   "outputs": [],
   "source": [
    "minha_lista = [10, 22, 5, 9, 1]\n",
    "##             0,  1,  2, 3, 4\n",
    "print(minha_lista)\n",
    "minha_lista.insert(1, 4)\n",
    "##              (indice, valor)\n",
    "print(minha_lista)"
   ],
   "metadata": {
    "collapsed": false
   }
  },
  {
   "cell_type": "markdown",
   "source": [
    "### Podemos remover elementos de uma lista usando o método remove():\n",
    "### O método remove() remove a primeira ocorrência do valor que lhe é passado\n",
    "### Por exemplo, se quisermos remover o número 10 fazemos:"
   ],
   "metadata": {
    "collapsed": false
   }
  },
  {
   "cell_type": "code",
   "execution_count": null,
   "outputs": [],
   "source": [
    "minha_lista = [10, 22, 10, 5, 9, 1]\n",
    "minha_lista.remove(10)\n",
    "print(minha_lista)"
   ],
   "metadata": {
    "collapsed": false
   }
  },
  {
   "cell_type": "markdown",
   "source": [
    "### Podemos usar o método pop() para remover um elemento de uma lista com base no índice.\n",
    "### O método pop() retorna o elemento removido.\n",
    "### Se não passarmos nenhum índice para o método pop(), ele removerá o último elemento da lista\n",
    "### Por exemplo, se quisermos remover o segundo elemento da lista fazemos:\n"
   ],
   "metadata": {
    "collapsed": false
   }
  },
  {
   "cell_type": "code",
   "execution_count": null,
   "outputs": [],
   "source": [
    "minha_lista = [10, 22, 5, 9, 1]\n",
    "##             0,  1,  2, 3, 4\n",
    "print(minha_lista)\n",
    "\n",
    "elemento_removido = minha_lista.pop(1)\n",
    "print(minha_lista)\n",
    "print(elemento_removido)"
   ],
   "metadata": {
    "collapsed": false
   }
  },
  {
   "cell_type": "code",
   "execution_count": null,
   "outputs": [],
   "source": [
    "minha_lista = [10, 22, 5, 9, 1]\n",
    "##             0,  1,  2, 3, 4\n",
    "print(minha_lista)\n",
    "\n",
    "elemento_removido2 = minha_lista.pop()\n",
    "print(minha_lista)\n",
    "print(elemento_removido2)"
   ],
   "metadata": {
    "collapsed": false
   }
  },
  {
   "cell_type": "markdown",
   "source": [
    "### Podemos usar o método clear() para remover todos os elementos de uma lista.\n"
   ],
   "metadata": {
    "collapsed": false
   }
  },
  {
   "cell_type": "code",
   "execution_count": null,
   "outputs": [],
   "source": [
    "minha_lista = [10, 22, 5, 9, 1]\n",
    "##             0,  1,  2, 3, 4\n",
    "print(minha_lista)\n",
    "minha_lista.clear()\n",
    "print(minha_lista)"
   ],
   "metadata": {
    "collapsed": false
   }
  },
  {
   "cell_type": "markdown",
   "source": [
    "### Podemos usar o método len() para obter o número de elementos de uma lista."
   ],
   "metadata": {
    "collapsed": false
   }
  },
  {
   "cell_type": "code",
   "execution_count": null,
   "outputs": [],
   "source": [
    "minha_lista = [10, 22, 5, 9, 1,1,1,1,1,1,1,1,1,1,1,1,1,1,1,1,1,1,1,1,1,1,1,1,1,1,1,1,1,1,1,1,1,1]\n",
    "print(len(minha_lista))"
   ],
   "metadata": {
    "collapsed": false
   }
  },
  {
   "cell_type": "markdown",
   "source": [
    "### Podemos usar o operador in para verificar se um elemento está presente numa lista.\n"
   ],
   "metadata": {
    "collapsed": false
   }
  },
  {
   "cell_type": "code",
   "execution_count": null,
   "outputs": [],
   "source": [
    "minha_lista = [10, 22, 5, 9, 1]\n",
    "##             0,  1,  2, 3, 4\n",
    "print(minha_lista)\n",
    "\n",
    "if 10 in minha_lista:\n",
    "    print(\"O número 10 está na lista\")\n",
    "else:\n",
    "    print(\"O número 10 não está na lista\")"
   ],
   "metadata": {
    "collapsed": false
   }
  },
  {
   "cell_type": "code",
   "execution_count": null,
   "outputs": [],
   "source": [
    "if 100 in minha_lista:\n",
    "    print(\"O número 100 está na lista\")\n",
    "else:\n",
    "    print(\"O número 100 não está na lista\")"
   ],
   "metadata": {
    "collapsed": false
   }
  },
  {
   "cell_type": "markdown",
   "source": [
    "### Podemos usar o método index() para obter o índice de um elemento numa lista.\n",
    "### O método index() retorna o índice da primeira ocorrência do valor que lhe é passado."
   ],
   "metadata": {
    "collapsed": false
   }
  },
  {
   "cell_type": "code",
   "execution_count": 3,
   "outputs": [
    {
     "name": "stdout",
     "output_type": "stream",
     "text": [
      "0\n"
     ]
    }
   ],
   "source": [
    "minha_lista = [10, 22, 5, 9, 1]\n",
    "##             0,  1,  2, 3, 4\n",
    "\n",
    "indice = minha_lista.index(10)\n",
    "print(indice)"
   ],
   "metadata": {
    "collapsed": false,
    "ExecuteTime": {
     "end_time": "2024-05-12T14:47:49.482179100Z",
     "start_time": "2024-05-12T14:47:49.468178400Z"
    }
   }
  },
  {
   "cell_type": "code",
   "execution_count": 5,
   "outputs": [
    {
     "name": "stdout",
     "output_type": "stream",
     "text": [
      "9\n"
     ]
    }
   ],
   "source": [
    "print(minha_lista[-2])"
   ],
   "metadata": {
    "collapsed": false,
    "ExecuteTime": {
     "end_time": "2024-05-12T14:47:58.025441500Z",
     "start_time": "2024-05-12T14:47:58.018442300Z"
    }
   }
  },
  {
   "cell_type": "markdown",
   "source": [
    "### Iterar sobre uma lista\n",
    "### Para iterar sobre os elementos de uma lista, podemos usar um loop for ou while\n",
    "### Por exemplo, para imprimir cada elemento da lista minha_lista:"
   ],
   "metadata": {
    "collapsed": false
   }
  },
  {
   "cell_type": "code",
   "execution_count": null,
   "outputs": [],
   "source": [
    "minha_lista = [10, 22, 5, 9, 1]\n",
    "##             0,  1,  2, 3, 4\n",
    "\n",
    "for elemento in minha_lista:\n",
    "    print(elemento * 3)\n"
   ],
   "metadata": {
    "collapsed": false
   }
  },
  {
   "cell_type": "markdown",
   "source": [],
   "metadata": {
    "collapsed": false
   }
  },
  {
   "cell_type": "markdown",
   "source": [
    "#### sorted(minha_lista): Retorna uma nova lista ordenada com os elementos da lista original.\n",
    "#### minha_lista.reverse(): Inverte a ordem dos elementos na lista.\n",
    "#### minha_lista.copy(): Retorna uma cópia da lista.\n",
    "#### minha_lista.count(x): Retorna o número de vezes que o valor x aparece na lista.\n",
    "#### minha_lista.extend(outra_lista): Adiciona os elementos da outra_lista à lista original.\n",
    "#### minha_lista.sort(): Ordena a lista original.\n",
    "\n",
    "#### minha_lista.clear(): Remove todos os elementos da lista original.\n",
    "#### minha_lista.index(x): Retorna o índice da primeira ocorrência do valor x na lista.\n",
    "#### minha_lista.remove(x): Remove a primeira ocorrência do valor x da lista.\n",
    "#### minha_lista.pop(i): Remove o elemento no índice i da lista e o retorna.\n",
    "#### minha_lista.insert(i, x): Adiciona o valor x na posição i da lista.\n",
    "#### minha_lista.append(x): Adiciona o valor x no final da lista.\n",
    "#### minha_lista[i]: Retorna o elemento no índice i da lista.\n",
    "#### len(minha_lista): Retorna o número de elementos na lista.\n",
    "#### x in minha_lista: Retorna True se o valor x estiver na lista, senão retorna False.\n",
    "\n",
    "### max(minha_lista): Retorna o maior valor da lista.\n",
    "### min(minha_lista): Retorna o menor valor da lista.\n",
    "### sum(minha_lista): Retorna a soma dos elementos da lista."
   ],
   "metadata": {
    "collapsed": false
   }
  },
  {
   "cell_type": "code",
   "execution_count": 18,
   "outputs": [
    {
     "name": "stdout",
     "output_type": "stream",
     "text": [
      "[1, 5, 9, 10, 22]\n",
      "[10, 22, 5, 9, 1]\n"
     ]
    }
   ],
   "source": [
    "minha_lista = [10, 22, 5, 9, 1]\n",
    "print(sorted(minha_lista))\n",
    "print(minha_lista)"
   ],
   "metadata": {
    "collapsed": false,
    "ExecuteTime": {
     "end_time": "2024-05-11T10:33:55.374184100Z",
     "start_time": "2024-05-11T10:33:55.364177500Z"
    }
   }
  },
  {
   "cell_type": "code",
   "execution_count": 19,
   "outputs": [
    {
     "name": "stdout",
     "output_type": "stream",
     "text": [
      "[10, 22, 5, 9, 1]\n",
      "[1, 5, 9, 10, 22]\n"
     ]
    }
   ],
   "source": [
    "minha_lista = [10, 22, 5, 9, 1]\n",
    "print(minha_lista)\n",
    "minha_lista.sort()\n",
    "print(minha_lista)"
   ],
   "metadata": {
    "collapsed": false,
    "ExecuteTime": {
     "end_time": "2024-05-11T10:33:55.876729600Z",
     "start_time": "2024-05-11T10:33:55.856729100Z"
    }
   }
  },
  {
   "cell_type": "code",
   "execution_count": 20,
   "outputs": [
    {
     "name": "stdout",
     "output_type": "stream",
     "text": [
      "[1, 9, 5, 22, 10]\n"
     ]
    }
   ],
   "source": [
    "minha_lista = [10, 22, 5, 9, 1]\n",
    "minha_lista.reverse()\n",
    "print(minha_lista)"
   ],
   "metadata": {
    "collapsed": false,
    "ExecuteTime": {
     "end_time": "2024-05-11T10:33:56.186737300Z",
     "start_time": "2024-05-11T10:33:56.176735900Z"
    }
   }
  },
  {
   "cell_type": "code",
   "execution_count": 21,
   "outputs": [
    {
     "name": "stdout",
     "output_type": "stream",
     "text": [
      "[10, 22, 5, 9, 1]\n",
      "[10, 22, 5, 9, 1]\n",
      "[100, 22, 5, 9, 1]\n",
      "[10, 22, 5, 9, 1]\n"
     ]
    }
   ],
   "source": [
    "minha_lista = [10, 22, 5, 9, 1]\n",
    "minha_lista2 = minha_lista.copy()\n",
    "\n",
    "print(minha_lista)\n",
    "print(minha_lista2)\n",
    "minha_lista[0] = 100\n",
    "print(minha_lista)\n",
    "print(minha_lista2)\n"
   ],
   "metadata": {
    "collapsed": false,
    "ExecuteTime": {
     "end_time": "2024-05-11T10:33:56.555999900Z",
     "start_time": "2024-05-11T10:33:56.535985400Z"
    }
   }
  },
  {
   "cell_type": "code",
   "execution_count": 22,
   "outputs": [
    {
     "name": "stdout",
     "output_type": "stream",
     "text": [
      "[10, 22, 5, 10, 10, 10, 10, 10, 10, 10, 9, 1]\n",
      "[22, 5, 9, 1]\n"
     ]
    }
   ],
   "source": [
    "minha_lista = [10, 22, 5, 10,10,10,10,10,10,10, 9, 1]\n",
    "quantidade = minha_lista.count(10)\n",
    "print(minha_lista)\n",
    "\n",
    "for i in range(quantidade):\n",
    "    minha_lista.remove(10)\n",
    "\n",
    "print(minha_lista)"
   ],
   "metadata": {
    "collapsed": false,
    "ExecuteTime": {
     "end_time": "2024-05-11T10:33:56.815996900Z",
     "start_time": "2024-05-11T10:33:56.805995300Z"
    }
   }
  },
  {
   "cell_type": "code",
   "execution_count": 23,
   "outputs": [
    {
     "name": "stdout",
     "output_type": "stream",
     "text": [
      "[10, 22, 5, 9, 1]\n",
      "[10, 22, 5, 9, 1, 100, 200, 300, 400, 500]\n"
     ]
    }
   ],
   "source": [
    "minha_lista = [10, 22, 5, 9, 1]\n",
    "minha_lista2 = [100, 200, 300, 400, 500]\n",
    "\n",
    "print(minha_lista)\n",
    "minha_lista.extend(minha_lista2)\n",
    "print(minha_lista)"
   ],
   "metadata": {
    "collapsed": false,
    "ExecuteTime": {
     "end_time": "2024-05-11T10:33:56.974781700Z",
     "start_time": "2024-05-11T10:33:56.964786Z"
    }
   }
  },
  {
   "cell_type": "markdown",
   "source": [],
   "metadata": {
    "collapsed": false
   }
  },
  {
   "cell_type": "code",
   "execution_count": 24,
   "outputs": [],
   "source": [
    "## Exercícios de Listas usando os metodos acima\n",
    "\n",
    "# 1. Escreva um programa que leia uma lista de números inteiros e imprima o maior e o menor valor da lista.\n",
    "# 2. Escreva um programa que leia uma lista de números inteiros e imprima o valor mais frequente e a quantidade de vezes que ele aparece na lista.\n",
    "# 3. Escreva um programa que leia uma lista de números inteiros e imprima a média dos elementos da lista.\n",
    "# 4. Escreva um programa que leia uma lista de números inteiros e imprima a soma dos elementos da lista.\n",
    "# 5. Escreva um programa que leia uma lista de números inteiros e imprima a lista sem elementos repetidos.\n",
    "# 6. Escreva um programa que leia duas listas de números inteiros e imprima a interseção entre as duas listas.\n",
    "# 7. Escreva um programa que leia duas listas de números inteiros e imprima a união entre as duas listas.\n",
    "# 8. Escreva um programa que leia uma lista de números inteiros e imprima a lista ordenada de forma decrescente.\n",
    "# 9. Escreva um programa que leia uma lista de números inteiros e imprima a lista ordenada de forma crescente.\n",
    "# 10. Escreva um programa que leia uma lista de números inteiros e imprima a lista invertida.\n",
    "# 11. Escreva um programa que leia uma lista de números inteiros e imprima a lista sem os elementos pares."
   ],
   "metadata": {
    "collapsed": false,
    "ExecuteTime": {
     "end_time": "2024-05-11T10:33:57.267705600Z",
     "start_time": "2024-05-11T10:33:57.257690600Z"
    }
   }
  },
  {
   "cell_type": "code",
   "execution_count": 25,
   "outputs": [
    {
     "name": "stdout",
     "output_type": "stream",
     "text": [
      "Lista original: [3, 1, 4, 1, 5, 9, 2, 6, 5]\n",
      "Lista ordenada: [1, 1, 2, 3, 4, 5, 5, 6, 9]\n"
     ]
    }
   ],
   "source": [
    "# sorted(minha_lista): Ordene minha_lista em ordem crescente sem modificar a lista original.\n",
    "minha_lista = [3, 1, 4, 1, 5, 9, 2, 6, 5]\n",
    "lista_ordenada = sorted(minha_lista)\n",
    "print(\"Lista original:\", minha_lista)\n",
    "print(\"Lista ordenada:\", lista_ordenada)"
   ],
   "metadata": {
    "collapsed": false,
    "ExecuteTime": {
     "end_time": "2024-05-11T10:33:57.916399700Z",
     "start_time": "2024-05-11T10:33:57.896396800Z"
    }
   }
  },
  {
   "cell_type": "code",
   "execution_count": 26,
   "outputs": [
    {
     "name": "stdout",
     "output_type": "stream",
     "text": [
      "[5, 6, 2, 9, 5, 1, 4, 1, 3]\n"
     ]
    }
   ],
   "source": [
    "# minha_lista.reverse(): Inverte a ordem dos elementos em minha_lista.\n",
    "minha_lista = [3, 1, 4, 1, 5, 9, 2, 6, 5]\n",
    "minha_lista.reverse()\n",
    "print(minha_lista)"
   ],
   "metadata": {
    "collapsed": false,
    "ExecuteTime": {
     "end_time": "2024-05-11T10:33:58.380529500Z",
     "start_time": "2024-05-11T10:33:58.360529600Z"
    }
   }
  },
  {
   "cell_type": "code",
   "execution_count": 27,
   "outputs": [
    {
     "name": "stdout",
     "output_type": "stream",
     "text": [
      "Lista original: [3, 1, 4, 1, 5, 9, 2, 6, 5]\n",
      "Cópia da lista: [100, 1, 4, 1, 5, 9, 2, 6, 5]\n"
     ]
    }
   ],
   "source": [
    "# minha_lista.copy(): Altere minha lista sem alterar a lista original.\n",
    "minha_lista = [3, 1, 4, 1, 5, 9, 2, 6, 5]\n",
    "copia_lista = minha_lista.copy()\n",
    "copia_lista[0] = 100\n",
    "print(\"Lista original:\", minha_lista)\n",
    "print(\"Cópia da lista:\", copia_lista)"
   ],
   "metadata": {
    "collapsed": false,
    "ExecuteTime": {
     "end_time": "2024-05-11T10:33:58.530533500Z",
     "start_time": "2024-05-11T10:33:58.520535900Z"
    }
   }
  },
  {
   "cell_type": "code",
   "execution_count": 28,
   "outputs": [
    {
     "name": "stdout",
     "output_type": "stream",
     "text": [
      "O número 3 aparece 1 vezes na lista.\n"
     ]
    }
   ],
   "source": [
    "# minha_lista.count(x): Retorne o número de vezes que x (pedindo ao utilizador) aparece em minha_lista.\n",
    "minha_lista = [3, 1, 4, 1, 5, 9, 2, 6, 5]\n",
    "numero = int(input(\"Digite o número que quer pesquisar: \"))\n",
    "quantidade = minha_lista.count(numero)\n",
    "print(\"O número\", numero, \"aparece\", quantidade, \"vezes na lista.\")"
   ],
   "metadata": {
    "collapsed": false,
    "ExecuteTime": {
     "end_time": "2024-05-11T10:34:00.443879100Z",
     "start_time": "2024-05-11T10:33:58.782184800Z"
    }
   }
  },
  {
   "cell_type": "code",
   "execution_count": 29,
   "outputs": [
    {
     "name": "stdout",
     "output_type": "stream",
     "text": [
      "[3, 1, 4, 1, 5, 9, 2, 6, 5, 10, 20, 30]\n"
     ]
    }
   ],
   "source": [
    "# minha_lista.extend(outra_lista): Adicione os elementos de outra_lista ao final de minha_lista.\n",
    "\n",
    "minha_lista = [3, 1, 4, 1, 5, 9, 2, 6, 5]\n",
    "outra_lista = [10, 20, 30]\n",
    "minha_lista.extend(outra_lista)\n",
    "print(minha_lista)"
   ],
   "metadata": {
    "collapsed": false,
    "ExecuteTime": {
     "end_time": "2024-05-11T10:34:00.730932900Z",
     "start_time": "2024-05-11T10:34:00.720936100Z"
    }
   }
  },
  {
   "cell_type": "code",
   "execution_count": 30,
   "outputs": [
    {
     "name": "stdout",
     "output_type": "stream",
     "text": [
      "[1, 1, 2, 3, 4, 5, 5, 6, 9]\n"
     ]
    }
   ],
   "source": [
    "# minha_lista.sort(): Ordene minha_lista em ordem crescente.\n",
    "minha_lista = [3, 1, 4, 1, 5, 9, 2, 6, 5]\n",
    "minha_lista.sort()\n",
    "print(minha_lista)"
   ],
   "metadata": {
    "collapsed": false,
    "ExecuteTime": {
     "end_time": "2024-05-11T10:34:00.882361100Z",
     "start_time": "2024-05-11T10:34:00.872354200Z"
    }
   }
  },
  {
   "cell_type": "code",
   "execution_count": 31,
   "outputs": [
    {
     "name": "stdout",
     "output_type": "stream",
     "text": [
      "[9, 6, 5, 5, 4, 3, 2, 1, 1]\n"
     ]
    }
   ],
   "source": [
    "# Ordene minha_lista em ordem decrescente\n",
    "minha_lista = [3, 1, 4, 1, 5, 9, 2, 6, 5]\n",
    "minha_lista.sort(reverse=True)\n",
    "print(minha_lista)"
   ],
   "metadata": {
    "collapsed": false,
    "ExecuteTime": {
     "end_time": "2024-05-11T10:34:01.045679400Z",
     "start_time": "2024-05-11T10:34:01.035681Z"
    }
   }
  },
  {
   "cell_type": "code",
   "execution_count": 32,
   "outputs": [
    {
     "name": "stdout",
     "output_type": "stream",
     "text": [
      "[]\n"
     ]
    }
   ],
   "source": [
    "# minha_lista.clear(): Remova todos os elementos de minha_lista.\n",
    "minha_lista = [3, 1, 4, 1, 5, 9, 2, 6, 5]\n",
    "minha_lista.clear()\n",
    "print(minha_lista)"
   ],
   "metadata": {
    "collapsed": false,
    "ExecuteTime": {
     "end_time": "2024-05-11T10:34:01.552307200Z",
     "start_time": "2024-05-11T10:34:01.542310800Z"
    }
   }
  },
  {
   "cell_type": "code",
   "execution_count": 33,
   "outputs": [
    {
     "name": "stdout",
     "output_type": "stream",
     "text": [
      "O número 3 está no índice 0 da lista.\n"
     ]
    }
   ],
   "source": [
    "# minha_lista.index(x): Retorne o índice da primeira ocorrência de x (pedindo ao utilizador) em minha_lista.\n",
    "minha_lista = [3, 1, 4, 1, 5, 9, 2, 6, 5]\n",
    "numero = int(input(\"Digite o número que quer pesquisar: \"))\n",
    "indice = minha_lista.index(numero)\n",
    "print(\"O número\", numero, \"está no índice\", indice, \"da lista.\")"
   ],
   "metadata": {
    "collapsed": false,
    "ExecuteTime": {
     "end_time": "2024-05-11T10:34:03.082955800Z",
     "start_time": "2024-05-11T10:34:01.690428300Z"
    }
   }
  },
  {
   "cell_type": "code",
   "execution_count": 34,
   "outputs": [
    {
     "name": "stdout",
     "output_type": "stream",
     "text": [
      "[1, 4, 1, 5, 9, 2, 6, 5]\n"
     ]
    }
   ],
   "source": [
    "\n",
    "# minha_lista.remove(x): Remova a primeira ocorrência de x (pedindo ao utilizador) de minha_lista.\n",
    "minha_lista = [3, 1, 4, 1, 5, 9, 2, 6, 5]\n",
    "numero = int(input(\"Digite o número que quer remover: \"))\n",
    "minha_lista.remove(numero)\n",
    "print(minha_lista)"
   ],
   "metadata": {
    "collapsed": false,
    "ExecuteTime": {
     "end_time": "2024-05-11T10:34:06.531957500Z",
     "start_time": "2024-05-11T10:34:03.713528700Z"
    }
   }
  },
  {
   "cell_type": "code",
   "execution_count": 35,
   "outputs": [
    {
     "name": "stdout",
     "output_type": "stream",
     "text": [
      "Elemento removido: 1\n",
      "[3, 1, 4, 5, 9, 2, 6, 5]\n"
     ]
    }
   ],
   "source": [
    "\n",
    "# minha_lista.pop(i): Remova o elemento no índice i (pedindo ao utilizador) de minha_lista e o retorne.\n",
    "minha_lista = [3, 1, 4, 1, 5, 9, 2, 6, 5]\n",
    "indice = int(input(\"Digite o índice do elemento que quer remover: \"))\n",
    "elemento = minha_lista.pop(indice)\n",
    "print(\"Elemento removido:\", elemento)\n",
    "print(minha_lista)\n"
   ],
   "metadata": {
    "collapsed": false,
    "ExecuteTime": {
     "end_time": "2024-05-11T10:34:08.253100100Z",
     "start_time": "2024-05-11T10:34:07.001456600Z"
    }
   }
  },
  {
   "cell_type": "code",
   "execution_count": 36,
   "outputs": [
    {
     "name": "stdout",
     "output_type": "stream",
     "text": [
      "[3, 1, 4, 3, 1, 5, 9, 2, 6, 5]\n"
     ]
    }
   ],
   "source": [
    "# minha_lista.insert(i, x): Adicione o valor x (pedindo ao utilizador) na posição i (pedindo ao utilizador) de minha_lista.\n",
    "minha_lista = [3, 1, 4, 1, 5, 9, 2, 6, 5]\n",
    "indice = int(input(\"Digite o índice onde quer adicionar o elemento: \"))\n",
    "numero = int(input(\"Digite o número que quer adicionar: \"))\n",
    "minha_lista.insert(indice, numero)\n",
    "print(minha_lista)"
   ],
   "metadata": {
    "collapsed": false,
    "ExecuteTime": {
     "end_time": "2024-05-11T10:34:11.611423900Z",
     "start_time": "2024-05-11T10:34:08.674005600Z"
    }
   }
  },
  {
   "cell_type": "code",
   "execution_count": 37,
   "outputs": [
    {
     "name": "stdout",
     "output_type": "stream",
     "text": [
      "[3, 1, 4, 1, 5, 9, 2, 6, 5, 3]\n"
     ]
    }
   ],
   "source": [
    "\n",
    "# minha_lista.append(x): Adicione o valor x (pedindo ao utilizador) no final de minha_lista.\n",
    "minha_lista = [3, 1, 4, 1, 5, 9, 2, 6, 5]\n",
    "numero = int(input(\"Digite o número que quer adicionar: \"))\n",
    "minha_lista.append(numero)\n",
    "\n",
    "print(minha_lista)"
   ],
   "metadata": {
    "collapsed": false,
    "ExecuteTime": {
     "end_time": "2024-05-11T10:34:13.875347300Z",
     "start_time": "2024-05-11T10:34:12.366799800Z"
    }
   }
  },
  {
   "cell_type": "code",
   "execution_count": 38,
   "outputs": [
    {
     "name": "stdout",
     "output_type": "stream",
     "text": [
      "Maior valor: 22\n",
      "Menor valor: 1\n"
     ]
    }
   ],
   "source": [
    "## 1. Escreva um programa que leia uma lista de números inteiros e imprima o maior e o menor valor da lista.\n",
    "lista = [10, 22, 5, 9, 1]\n",
    "maior = max(lista)\n",
    "menor = min(lista)\n",
    "print(\"Maior valor:\", maior)\n",
    "print(\"Menor valor:\", menor)\n"
   ],
   "metadata": {
    "collapsed": false,
    "ExecuteTime": {
     "end_time": "2024-05-11T10:34:15.565347800Z",
     "start_time": "2024-05-11T10:34:15.555347200Z"
    }
   }
  },
  {
   "cell_type": "code",
   "execution_count": 39,
   "outputs": [
    {
     "name": "stdout",
     "output_type": "stream",
     "text": [
      "Média: 9.4\n"
     ]
    }
   ],
   "source": [
    "# 2. Escreva um programa que leia uma lista de números inteiros e imprima a média dos elementos da lista.\n",
    "\n",
    "lista = [10, 22, 5, 9, 1]\n",
    "soma = sum(lista)\n",
    "media = soma / len(lista)\n",
    "print(\"Média:\", media)"
   ],
   "metadata": {
    "collapsed": false,
    "ExecuteTime": {
     "end_time": "2024-05-11T10:34:16.435870200Z",
     "start_time": "2024-05-11T10:34:16.425874600Z"
    }
   }
  },
  {
   "cell_type": "code",
   "execution_count": 40,
   "outputs": [
    {
     "name": "stdout",
     "output_type": "stream",
     "text": [
      "[10, 5, 9]\n"
     ]
    }
   ],
   "source": [
    "# 3 . Escreva um programa que remova o maior e o menor valor de uma lista de números inteiros.\n",
    "lista = [10, 22, 5, 9, 1]\n",
    "lista.remove(max(lista))\n",
    "lista.remove(min(lista))\n",
    "print(lista)"
   ],
   "metadata": {
    "collapsed": false,
    "ExecuteTime": {
     "end_time": "2024-05-11T10:44:05.869845600Z",
     "start_time": "2024-05-11T10:44:05.859841700Z"
    }
   }
  },
  {
   "cell_type": "code",
   "execution_count": 42,
   "outputs": [
    {
     "name": "stdout",
     "output_type": "stream",
     "text": [
      "Resultado: 9900\n"
     ]
    }
   ],
   "source": [
    "# 4. Escreva um programa que peça ao utilizador para digitar uma lista de números inteiros e que faça a multiplicação de todos os elementos da lista.\n",
    "\n",
    "lista = [10, 22, 5, 9, 1]\n",
    "resultado = 1\n",
    "for numero in lista:\n",
    "    resultado = resultado * numero\n",
    "\n",
    "print(\"Resultado:\", resultado)\n"
   ],
   "metadata": {
    "collapsed": false,
    "ExecuteTime": {
     "end_time": "2024-05-11T11:03:36.704521800Z",
     "start_time": "2024-05-11T11:03:36.684520700Z"
    }
   }
  },
  {
   "cell_type": "code",
   "execution_count": 54,
   "outputs": [
    {
     "name": "stdout",
     "output_type": "stream",
     "text": [
      "[28, 10, 7, 5, 9, 1]\n"
     ]
    }
   ],
   "source": [
    "# 5 . Escreva um programa que leia uma lista de números inteiros e imprima a lista sem os elementos pares.\n",
    "\n",
    "lista = [10, 28, 6, 10, 4, 7, 8,  5, 9, 1]\n",
    "nova_lista = []\n",
    "\n",
    "copia = lista.copy()\n",
    "for numero in copia:\n",
    "    if numero % 2 == 0:\n",
    "        copia.remove(numero)\n",
    "\n",
    "print(copia)\n",
    "\n"
   ],
   "metadata": {
    "collapsed": false,
    "ExecuteTime": {
     "end_time": "2024-05-11T11:30:01.909721200Z",
     "start_time": "2024-05-11T11:30:01.899726900Z"
    }
   }
  },
  {
   "cell_type": "code",
   "execution_count": 44,
   "outputs": [
    {
     "name": "stdout",
     "output_type": "stream",
     "text": [
      "0\n",
      "1\n",
      "2\n",
      "3\n",
      "4\n"
     ]
    }
   ],
   "source": [
    "minha_lista = [10, 22, 5, 9, 1]\n",
    "\n",
    "for i in range(len(minha_lista)):\n",
    "    print(i)\n"
   ],
   "metadata": {
    "collapsed": false,
    "ExecuteTime": {
     "end_time": "2024-05-11T11:15:39.549283100Z",
     "start_time": "2024-05-11T11:15:39.539753200Z"
    }
   }
  },
  {
   "cell_type": "code",
   "execution_count": 46,
   "outputs": [
    {
     "name": "stdout",
     "output_type": "stream",
     "text": [
      "Número: 10 Indice: 0\n",
      "Número: 22 Indice: 1\n",
      "Número: 5 Indice: 2\n",
      "Número: 9 Indice: 3\n",
      "Número: 1 Indice: 4\n"
     ]
    }
   ],
   "source": [
    "minha_lista = [10, 22, 5, 9, 1]\n",
    "\n",
    "for numero in minha_lista:\n",
    "    print(\"Número:\", numero , \"Indice:\", minha_lista.index(numero))"
   ],
   "metadata": {
    "collapsed": false,
    "ExecuteTime": {
     "end_time": "2024-05-11T11:16:37.410362500Z",
     "start_time": "2024-05-11T11:16:37.360283300Z"
    }
   }
  },
  {
   "cell_type": "code",
   "execution_count": 55,
   "outputs": [
    {
     "name": "stdout",
     "output_type": "stream",
     "text": [
      "4\n",
      "JOÃO\n",
      "5\n",
      "MARIA\n",
      "6\n",
      "CARLOS\n",
      "3\n",
      "ANA\n",
      "5\n",
      "PEDRO\n"
     ]
    }
   ],
   "source": [
    "nomes = [\"João\", \"Maria\", \"Carlos\", \"Ana\", \"Pedro\"]\n",
    "\n",
    "for nome in nomes:\n",
    "    nome = nome.upper()\n",
    "    print(len(nome))\n",
    "    print(nome)"
   ],
   "metadata": {
    "collapsed": false,
    "ExecuteTime": {
     "end_time": "2024-05-11T11:32:23.839885400Z",
     "start_time": "2024-05-11T11:32:23.818727100Z"
    }
   }
  },
  {
   "cell_type": "code",
   "execution_count": null,
   "outputs": [],
   "source": [],
   "metadata": {
    "collapsed": false
   }
  },
  {
   "cell_type": "markdown",
   "source": [
    "---\n",
    "\n",
    "# Strings\n",
    "\n",
    "- ### Uma string é uma sequência de caracteres.\n",
    "- ### Uma string é parecido com uma lista, mas que apenas tem caracteres.\n",
    "- ### Em Python, as strings são definidas entre aspas simples ou duplas.\n",
    "- ### Podemos usar aspas simples dentro de uma string delimitada por aspas duplas e vice-versa.\n",
    "- ### Podemos usar aspas triplas para strings multilinhas.\n",
    "\n",
    "- ### Podemos usar o operador + para concatenar strings.\n",
    "- ### Podemos usar o operador * para repetir uma string.\n",
    "- ### Podemos usar [] para aceder a caracteres individuais de uma string.\n",
    "- ### Podemos usar [:] para aceder a uma parte de uma string.\n",
    "- ### Podemos usar in para verificar se um caractere ou uma substring está presente numa string.\n",
    "- ### Podemos usar len() para obter o comprimento de uma string.\n",
    "- ### Podemos usar upper() para converter uma string em maiúsculas.\n",
    "- ### Podemos usar lower() para converter uma string em minúsculas.\n",
    "- ### Podemos usar split() para dividir uma string numa lista de substrings.\n",
    "- ### Podemos usar join() para juntar uma lista de strings numa única string.\n",
    "- ### Podemos usar replace() para substituir uma substring por outra.\n",
    "- ### Podemos usar find() para encontrar a primeira ocorrência de uma substring numa string.\n",
    "- ### Podemos usar rfind() para encontrar a última ocorrência de uma substring numa string.\n",
    "- ### Podemos usar count() para contar o número de ocorrências de uma substring numa string.\n",
    "- ### Podemos usar startswith() para verificar se uma string começa com uma determinada substring.\n",
    "- ### Podemos usar endswith() para verificar se uma string termina com uma determinada substring.\n",
    "- ### Podemos usar isdigit() para verificar se uma string contém apenas dígitos.\n",
    "- ### Podemos usar isalpha() para verificar se uma string contém apenas letras.\n",
    "- ### Podemos usar isalnum() para verificar se uma string contém apenas letras e dígitos.\n",
    "- ### Podemos usar isspace() para verificar se uma string contém apenas espaços em branco.\n",
    "- ### Podemos usar isupper() para verificar se uma string está em maiúsculas.\n",
    "- ### Podemos usar islower() para verificar se uma string está em minúsculas.\n",
    "- ### Podemos usar capitalize() para converter o primeiro caractere de uma string em maiúsculas.\n",
    "- ### Podemos usar title() para converter o primeiro caractere de cada palavra de uma string em maiúsculas.\n",
    "- ### Podemos usar swapcase() para inverter o caso de cada caractere de uma string.\n",
    "- ### Podemos usar strip() para remover espaços em branco do início e do fim de uma string."
   ],
   "metadata": {
    "collapsed": false
   }
  },
  {
   "cell_type": "code",
   "execution_count": 8,
   "outputs": [
    {
     "name": "stdout",
     "output_type": "stream",
     "text": [
      "João\n",
      "Maio\n",
      "Isto é uma frase\n",
      "com várias linhas\n"
     ]
    }
   ],
   "source": [
    "# Exemplos de Strings\n",
    "nome = \"João\"\n",
    "sobrenome = 'Maio'\n",
    "fraseComVariasLinhas = \"\"\"Isto é uma frase\n",
    "com várias linhas\"\"\"\n",
    "\n",
    "print(nome)\n",
    "print(sobrenome)\n",
    "print(fraseComVariasLinhas)\n"
   ],
   "metadata": {
    "collapsed": false,
    "ExecuteTime": {
     "end_time": "2024-05-25T10:37:15.259899300Z",
     "start_time": "2024-05-25T10:37:15.213889300Z"
    }
   }
  },
  {
   "cell_type": "markdown",
   "source": [
    "### Concatenação de Strings\n",
    "### Podemos usar o operador + para concatenar strings."
   ],
   "metadata": {
    "collapsed": false
   }
  },
  {
   "cell_type": "code",
   "execution_count": 10,
   "outputs": [
    {
     "name": "stdout",
     "output_type": "stream",
     "text": [
      "João Maio\n"
     ]
    }
   ],
   "source": [
    "nome = \"João\"\n",
    "sobrenome = \"Maio\"\n",
    "nomeCompleto = nome + \" \" + sobrenome\n",
    "print(nomeCompleto)"
   ],
   "metadata": {
    "collapsed": false,
    "ExecuteTime": {
     "end_time": "2024-05-25T10:38:23.732567100Z",
     "start_time": "2024-05-25T10:38:23.706561100Z"
    }
   }
  },
  {
   "cell_type": "markdown",
   "source": [
    "### Repetição de Strings\n",
    "### Podemos usar o operador * para repetir uma string."
   ],
   "metadata": {
    "collapsed": false
   }
  },
  {
   "cell_type": "code",
   "execution_count": 13,
   "outputs": [
    {
     "name": "stdout",
     "output_type": "stream",
     "text": [
      "João João João João João \n"
     ]
    }
   ],
   "source": [
    "nome = \"João\"\n",
    "nomeRepetido = (nome + \" \") * 5\n",
    "print(nomeRepetido)"
   ],
   "metadata": {
    "collapsed": false,
    "ExecuteTime": {
     "end_time": "2024-05-25T10:40:00.585608400Z",
     "start_time": "2024-05-25T10:40:00.559082Z"
    }
   }
  },
  {
   "cell_type": "markdown",
   "source": [
    "### Acesso a Caracteres\n",
    "### Podemos usar [] para aceder a caracteres individuais de uma string.\n",
    "### Tal como na lista, os índices em Python começam por 0."
   ],
   "metadata": {
    "collapsed": false
   }
  },
  {
   "cell_type": "code",
   "execution_count": 16,
   "outputs": [
    {
     "name": "stdout",
     "output_type": "stream",
     "text": [
      "J\n",
      "o\n"
     ]
    }
   ],
   "source": [
    "nome = \"João\"\n",
    "#nome = [\"J\", \"o\", \"ã\", \"o\"]\n",
    "#        0 ,  1,   2 ,   3\n",
    "#        -4, -3, -2,  -1\n",
    "primeiraLetra = nome[0]\n",
    "print(primeiraLetra)\n",
    "\n",
    "ultimaLetra = nome[-1]\n",
    "print(ultimaLetra)"
   ],
   "metadata": {
    "collapsed": false,
    "ExecuteTime": {
     "end_time": "2024-05-25T10:41:54.348341600Z",
     "start_time": "2024-05-25T10:41:54.324828800Z"
    }
   }
  },
  {
   "cell_type": "markdown",
   "source": [
    "### Acesso a Parte de uma String\n",
    "### Podemos usar [ i : f ] para aceder a uma parte de uma string.\n",
    "### O primeiro número é o índice de início e o segundo número é o índice de fim.\n",
    "### O índice de início é inclusivo e o índice de fim é exclusivo."
   ],
   "metadata": {
    "collapsed": false
   }
  },
  {
   "cell_type": "code",
   "execution_count": 25,
   "outputs": [
    {
     "name": "stdout",
     "output_type": "stream",
     "text": [
      "Joã\n",
      "oda\n",
      "oooooooooooo\n"
     ]
    }
   ],
   "source": [
    "nome = \"Joãoooooooooooooooooooasdoaosdoasodasodoasdoasodoasoda\"\n",
    "#nome = [\"J\", \"o\", \"ã\", \"o\"]\n",
    "#        0 ,  1,   2 ,   3\n",
    "#       -4, -3, -2,  -1\n",
    "primeirasTresLetras = nome[:3]\n",
    "print(primeirasTresLetras)\n",
    "\n",
    "ultimasTresLetras = nome[-3:]\n",
    "print(ultimasTresLetras)\n",
    "\n",
    "letrasdomeio = nome[4:16]\n",
    "print(letrasdomeio)\n"
   ],
   "metadata": {
    "collapsed": false,
    "ExecuteTime": {
     "end_time": "2024-05-25T10:45:34.159226600Z",
     "start_time": "2024-05-25T10:45:34.133221500Z"
    }
   }
  },
  {
   "cell_type": "markdown",
   "source": [
    "### Verificar se um Caractere ou Substring está Presente numa String\n",
    "### Podemos usar in para verificar se um caractere ou uma substring está presente numa string."
   ],
   "metadata": {
    "collapsed": false
   }
  },
  {
   "cell_type": "code",
   "execution_count": 26,
   "outputs": [
    {
     "name": "stdout",
     "output_type": "stream",
     "text": [
      "True\n",
      "A palavra está presente na string\n"
     ]
    }
   ],
   "source": [
    "frase = \"Verificar se um palavra está Presente numa String\"\n",
    "valor = \"numa\" in frase\n",
    "print(valor)\n",
    "\n",
    "if valor:\n",
    "    print(\"A palavra está presente na string\")\n",
    "else:\n",
    "    print(\"A palavra não está presente na string\")\n"
   ],
   "metadata": {
    "collapsed": false,
    "ExecuteTime": {
     "end_time": "2024-05-25T10:47:22.294916700Z",
     "start_time": "2024-05-25T10:47:22.268612Z"
    }
   }
  },
  {
   "cell_type": "code",
   "execution_count": 28,
   "outputs": [
    {
     "name": "stdout",
     "output_type": "stream",
     "text": [
      "True\n",
      "A letra 'ã' está presente na string\n"
     ]
    }
   ],
   "source": [
    "nome = \"João\"\n",
    "valor = \"ã\" in nome\n",
    "print(valor)\n",
    "\n",
    "if valor:\n",
    "    print(\"A letra 'ã' está presente na string\")\n",
    "else:\n",
    "    print(\"A letra 'ã' não está presente na string\")"
   ],
   "metadata": {
    "collapsed": false,
    "ExecuteTime": {
     "end_time": "2024-05-25T10:48:36.578311800Z",
     "start_time": "2024-05-25T10:48:36.549306300Z"
    }
   }
  },
  {
   "cell_type": "markdown",
   "source": [
    "### Comprimento de uma String\n",
    "### Podemos usar len() para obter o comprimento de uma string.\n"
   ],
   "metadata": {
    "collapsed": false
   }
  },
  {
   "cell_type": "code",
   "execution_count": 30,
   "outputs": [
    {
     "name": "stdout",
     "output_type": "stream",
     "text": [
      "44\n"
     ]
    }
   ],
   "source": [
    "nome = \"Joã0000000000000000000000000000000000000000o\"\n",
    "print(len(nome))"
   ],
   "metadata": {
    "collapsed": false,
    "ExecuteTime": {
     "end_time": "2024-05-18T10:56:32.086418800Z",
     "start_time": "2024-05-18T10:56:32.054424100Z"
    }
   }
  },
  {
   "cell_type": "markdown",
   "source": [
    "### Converter uma String em Maiúsculas\n",
    "### Podemos usar upper() para converter uma string em maiúsculas.\n"
   ],
   "metadata": {
    "collapsed": false
   }
  },
  {
   "cell_type": "code",
   "execution_count": 31,
   "outputs": [
    {
     "name": "stdout",
     "output_type": "stream",
     "text": [
      "JOÃO\n"
     ]
    }
   ],
   "source": [
    "nome = \"João\"\n",
    "nomeMaiusculas = nome.upper()\n",
    "print(nomeMaiusculas)"
   ],
   "metadata": {
    "collapsed": false,
    "ExecuteTime": {
     "end_time": "2024-05-18T10:57:02.941457100Z",
     "start_time": "2024-05-18T10:57:02.912456900Z"
    }
   }
  },
  {
   "cell_type": "markdown",
   "source": [
    "### Converter uma String em Minúsculas\n",
    "### Podemos usar lower() para converter uma string em minúsculas.\n"
   ],
   "metadata": {
    "collapsed": false
   }
  },
  {
   "cell_type": "code",
   "execution_count": 32,
   "outputs": [
    {
     "name": "stdout",
     "output_type": "stream",
     "text": [
      "joão\n"
     ]
    }
   ],
   "source": [
    "nome = \"João\"\n",
    "nomeMinusculas = nome.lower()\n",
    "print(nomeMinusculas)"
   ],
   "metadata": {
    "collapsed": false,
    "ExecuteTime": {
     "end_time": "2024-05-18T10:57:17.078665900Z",
     "start_time": "2024-05-18T10:57:17.062667300Z"
    }
   }
  },
  {
   "cell_type": "code",
   "execution_count": 31,
   "outputs": [
    {
     "name": "stdout",
     "output_type": "stream",
     "text": [
      "Os nomes são iguais\n"
     ]
    }
   ],
   "source": [
    "nome1 = \"joao\"\n",
    "nome2 = \"JOAO\"\n",
    "\n",
    "if nome1.upper() == nome2.upper():\n",
    "    print(\"Os nomes são iguais\")\n",
    "else:\n",
    "    print(\"Os nomes são diferentes\")"
   ],
   "metadata": {
    "collapsed": false,
    "ExecuteTime": {
     "end_time": "2024-05-25T10:52:15.023016800Z",
     "start_time": "2024-05-25T10:52:15.003011900Z"
    }
   }
  },
  {
   "cell_type": "markdown",
   "source": [
    "### Dividir uma String numa Lista de Substrings\n",
    "### Podemos usar split() para dividir uma string numa lista de substrings.\n",
    "### O método split() divide a string com base num separador que lhe é passado.\n",
    "### Se não passarmos nenhum separador, o método split() dividirá a string em palavras."
   ],
   "metadata": {
    "collapsed": false
   }
  },
  {
   "cell_type": "code",
   "execution_count": 33,
   "outputs": [
    {
     "name": "stdout",
     "output_type": "stream",
     "text": [
      "['Istoéumafrase']\n"
     ]
    }
   ],
   "source": [
    "frase = \"Isto é uma frase\"\n",
    "palavras = frase.split()\n",
    "print(palavras)"
   ],
   "metadata": {
    "collapsed": false,
    "ExecuteTime": {
     "end_time": "2024-05-25T10:53:44.165789100Z",
     "start_time": "2024-05-25T10:53:44.148785400Z"
    }
   }
  },
  {
   "cell_type": "code",
   "execution_count": 34,
   "outputs": [
    {
     "name": "stdout",
     "output_type": "stream",
     "text": [
      "['Isto é um', ' fr', 'se']\n"
     ]
    }
   ],
   "source": [
    "frase = \"Isto é uma frase\"\n",
    "palavras = frase.split(\"a\")\n",
    "print(palavras)"
   ],
   "metadata": {
    "collapsed": false,
    "ExecuteTime": {
     "end_time": "2024-05-25T10:54:12.911744300Z",
     "start_time": "2024-05-25T10:54:12.858732Z"
    }
   }
  },
  {
   "cell_type": "markdown",
   "source": [
    "### Juntar uma Lista de Strings numa Única String\n",
    "### Podemos usar join() para juntar uma lista de strings numa única string.\n",
    "### O método join() junta as strings da lista com base num separador que lhe é passado."
   ],
   "metadata": {
    "collapsed": false
   }
  },
  {
   "cell_type": "code",
   "execution_count": 37,
   "outputs": [
    {
     "name": "stdout",
     "output_type": "stream",
     "text": [
      "Isto -- é -- uma -- frase\n"
     ]
    }
   ],
   "source": [
    "separador = \" -- \"\n",
    "palavras = [\"Isto\", \"é\", \"uma\", \"frase\"]\n",
    "frase = separador.join(palavras)\n",
    "print(frase)"
   ],
   "metadata": {
    "collapsed": false,
    "ExecuteTime": {
     "end_time": "2024-05-18T11:03:27.973861200Z",
     "start_time": "2024-05-18T11:03:27.945863300Z"
    }
   }
  },
  {
   "cell_type": "code",
   "execution_count": 36,
   "outputs": [
    {
     "name": "stdout",
     "output_type": "stream",
     "text": [
      "Isto é uma frase\n",
      "<class 'str'>\n"
     ]
    }
   ],
   "source": [
    "palavras = [\"Isto\", \"é\", \"uma\", \"frase\"]\n",
    "frase = \" \".join(palavras)\n",
    "print(frase)\n",
    "print(type(frase))"
   ],
   "metadata": {
    "collapsed": false,
    "ExecuteTime": {
     "end_time": "2024-05-25T10:56:33.134976800Z",
     "start_time": "2024-05-25T10:56:33.094462800Z"
    }
   }
  },
  {
   "cell_type": "markdown",
   "source": [
    "### Substituir uma Substring por Outra\n",
    "### Podemos usar replace() para substituir uma substring por outra."
   ],
   "metadata": {
    "collapsed": false
   }
  },
  {
   "cell_type": "code",
   "execution_count": 39,
   "outputs": [
    {
     "name": "stdout",
     "output_type": "stream",
     "text": [
      "Isto é uma página página página\n"
     ]
    }
   ],
   "source": [
    "\n",
    "frase = \"Isto é uma frase frase frase\"\n",
    "novaFrase = frase.replace(\"frase\", \"página\")\n",
    "print(novaFrase)\n"
   ],
   "metadata": {
    "collapsed": false,
    "ExecuteTime": {
     "end_time": "2024-05-18T11:05:15.047885400Z",
     "start_time": "2024-05-18T11:05:15.023885400Z"
    }
   }
  },
  {
   "cell_type": "code",
   "execution_count": 40,
   "outputs": [
    {
     "name": "stdout",
     "output_type": "stream",
     "text": [
      "Isto é umo frose\n"
     ]
    }
   ],
   "source": [
    "frase = \"Isto é uma frase\"\n",
    "novaFrase = frase.replace(\"a\", \"o\")\n",
    "print(novaFrase)"
   ],
   "metadata": {
    "collapsed": false,
    "ExecuteTime": {
     "end_time": "2024-05-18T11:05:35.270669100Z",
     "start_time": "2024-05-18T11:05:35.239670800Z"
    }
   }
  },
  {
   "cell_type": "markdown",
   "source": [
    "### Encontrar a Primeira Ocorrência de uma Substring numa String\n",
    "### Podemos usar find() para encontrar a primeira ocorrência de uma substring numa string.\n",
    "### O método find() retorna o índice da primeira ocorrência da substring.\n",
    "### Se a substring não for encontrada, o método find() retorna -1.\n"
   ],
   "metadata": {
    "collapsed": false
   }
  },
  {
   "cell_type": "code",
   "execution_count": 45,
   "outputs": [
    {
     "name": "stdout",
     "output_type": "stream",
     "text": [
      "9\n",
      "A palavra foi encontrada no índice 9\n"
     ]
    }
   ],
   "source": [
    "\n",
    "frase = \"Isto é uma frase\"\n",
    "indice = frase.find(\"a\")\n",
    "\n",
    "if indice == -1:\n",
    "    print(\"A palavra não foi encontrada\")\n",
    "else:\n",
    "    print(\"A palavra foi encontrada no índice\", indice)\n",
    "\n"
   ],
   "metadata": {
    "collapsed": false,
    "ExecuteTime": {
     "end_time": "2024-05-18T11:08:36.357953300Z",
     "start_time": "2024-05-18T11:08:36.333140600Z"
    }
   }
  },
  {
   "cell_type": "code",
   "execution_count": 21,
   "outputs": [
    {
     "name": "stdout",
     "output_type": "stream",
     "text": [
      "-1\n"
     ]
    }
   ],
   "source": [
    "\n",
    "frase = \"Isto é uma frase\"\n",
    "indice = frase.find(\"página\")\n",
    "print(indice)\n"
   ],
   "metadata": {
    "collapsed": false,
    "ExecuteTime": {
     "end_time": "2024-05-16T14:16:15.114057200Z",
     "start_time": "2024-05-16T14:16:15.079047900Z"
    }
   }
  },
  {
   "cell_type": "code",
   "execution_count": 47,
   "outputs": [
    {
     "name": "stdout",
     "output_type": "stream",
     "text": [
      "0\n",
      "Substring encontrada : 3\n",
      "4\n",
      "Substring encontrada : 14\n",
      "15\n",
      "Substring encontrada : 17\n",
      "18\n",
      "Substring encontrada : 24\n",
      "25\n",
      "Substring encontrada : 26\n",
      "27\n",
      "Substring encontrada : 35\n",
      "36\n"
     ]
    }
   ],
   "source": [
    "string = \"Isto é um carro com um motor e um volante\"\n",
    "substring = \"o\"\n",
    "\n",
    "start = 0\n",
    "while start < len(string):\n",
    "    print(start)\n",
    "    indice = string.find(substring, start)\n",
    "    if indice == -1:\n",
    "        break\n",
    "    print(\"Substring encontrada :\", indice)\n",
    "    start = indice + 1"
   ],
   "metadata": {
    "collapsed": false,
    "ExecuteTime": {
     "end_time": "2024-05-18T11:29:00.756415Z",
     "start_time": "2024-05-18T11:29:00.722688700Z"
    }
   }
  },
  {
   "cell_type": "markdown",
   "source": [
    "### Encontrar a Última Ocorrência de uma Substring numa String\n",
    "### Podemos usar rfind() para encontrar a última ocorrência de uma substring numa string.\n",
    "### O método rfind() retorna o índice da última ocorrência da substring.\n",
    "### Se a substring não for encontrada, o método rfind() retorna -1."
   ],
   "metadata": {
    "collapsed": false
   }
  },
  {
   "cell_type": "code",
   "execution_count": 49,
   "outputs": [
    {
     "name": "stdout",
     "output_type": "stream",
     "text": [
      "7\n",
      "21\n"
     ]
    }
   ],
   "source": [
    "\n",
    "frase = \"Isto é uma frase com uma palavra repetida\"\n",
    "indicef = frase.find(\"uma\")\n",
    "indice = frase.rfind(\"uma\")\n",
    "\n",
    "print(indicef)\n",
    "print(indice)"
   ],
   "metadata": {
    "collapsed": false,
    "ExecuteTime": {
     "end_time": "2024-05-18T11:34:33.307654300Z",
     "start_time": "2024-05-18T11:34:33.286652100Z"
    }
   }
  },
  {
   "cell_type": "markdown",
   "source": [
    "### Contar o Número de Ocorrências de uma Substring numa String\n",
    "### Podemos usar count() para contar o número de ocorrências de uma substring numa string.\n"
   ],
   "metadata": {
    "collapsed": false
   }
  },
  {
   "cell_type": "code",
   "execution_count": 51,
   "outputs": [
    {
     "name": "stdout",
     "output_type": "stream",
     "text": [
      "7\n"
     ]
    }
   ],
   "source": [
    "\n",
    "frase = \"Isto é uma frase com uma palavra repetida\"\n",
    "quantidade = frase.count(\"a\")\n",
    "print(quantidade)"
   ],
   "metadata": {
    "collapsed": false,
    "ExecuteTime": {
     "end_time": "2024-05-18T11:35:17.749325500Z",
     "start_time": "2024-05-18T11:35:17.724807700Z"
    }
   }
  },
  {
   "cell_type": "markdown",
   "source": [
    "### Verificar se uma String Começa com uma Determinada Substring\n",
    "### Podemos usar startswith() para verificar se uma string começa com uma determinada substring."
   ],
   "metadata": {
    "collapsed": false
   }
  },
  {
   "cell_type": "code",
   "execution_count": 38,
   "outputs": [
    {
     "name": "stdout",
     "output_type": "stream",
     "text": [
      "A frase começa com 'Isto'\n"
     ]
    }
   ],
   "source": [
    "\n",
    "frase = \"Isto é uma frase\"\n",
    "if frase.startswith(\"Isto\"):\n",
    "    print(\"A frase começa com 'Isto'\")\n",
    "else:\n",
    "    print(\"A frase não começa com 'Isto'\")\n"
   ],
   "metadata": {
    "collapsed": false,
    "ExecuteTime": {
     "end_time": "2024-05-25T11:06:36.625103800Z",
     "start_time": "2024-05-25T11:06:36.600097700Z"
    }
   }
  },
  {
   "cell_type": "markdown",
   "source": [
    "### Verificar se uma String Termina com uma Determinada Substring\n",
    "### Podemos usar endswith() para verificar se uma string termina com uma determinada substring.\n"
   ],
   "metadata": {
    "collapsed": false
   }
  },
  {
   "cell_type": "code",
   "execution_count": 26,
   "outputs": [
    {
     "name": "stdout",
     "output_type": "stream",
     "text": [
      "A frase termina com 'frase'\n"
     ]
    }
   ],
   "source": [
    "\n",
    "frase = \"Isto é uma frase\"\n",
    "if frase.endswith(\"frase\"):\n",
    "    print(\"A frase termina com 'frase'\")\n",
    "else:\n",
    "    print(\"A frase não termina com 'frase'\")"
   ],
   "metadata": {
    "collapsed": false,
    "ExecuteTime": {
     "end_time": "2024-05-16T14:17:38.307590300Z",
     "start_time": "2024-05-16T14:17:38.272211800Z"
    }
   }
  },
  {
   "cell_type": "markdown",
   "source": [
    "### Verificar se uma String Contém Apenas Dígitos\n",
    "### Podemos usar isdigit() para verificar se uma string contém apenas dígitos.\n"
   ],
   "metadata": {
    "collapsed": false
   }
  },
  {
   "cell_type": "code",
   "execution_count": 27,
   "outputs": [
    {
     "name": "stdout",
     "output_type": "stream",
     "text": [
      "A string contém apenas dígitos\n"
     ]
    }
   ],
   "source": [
    "\n",
    "numero = \"123\"\n",
    "if numero.isdigit():\n",
    "    print(\"A string contém apenas dígitos\")\n",
    "else:\n",
    "    print(\"A string não contém apenas dígitos\")"
   ],
   "metadata": {
    "collapsed": false,
    "ExecuteTime": {
     "end_time": "2024-05-16T14:17:54.109085100Z",
     "start_time": "2024-05-16T14:17:54.073075100Z"
    }
   }
  },
  {
   "cell_type": "code",
   "execution_count": 28,
   "outputs": [
    {
     "name": "stdout",
     "output_type": "stream",
     "text": [
      "A string não contém apenas dígitos\n"
     ]
    }
   ],
   "source": [
    "numero = \"123a\"\n",
    "if numero.isdigit():\n",
    "    print(\"A string contém apenas dígitos\")\n",
    "else:\n",
    "    print(\"A string não contém apenas dígitos\")"
   ],
   "metadata": {
    "collapsed": false,
    "ExecuteTime": {
     "end_time": "2024-05-16T14:17:58.496168800Z",
     "start_time": "2024-05-16T14:17:58.451185800Z"
    }
   }
  },
  {
   "cell_type": "code",
   "execution_count": 29,
   "outputs": [
    {
     "name": "stdout",
     "output_type": "stream",
     "text": [
      "A string não contém apenas dígitos\n"
     ]
    }
   ],
   "source": [
    "numero = \"123.45\"\n",
    "if numero.isdigit():\n",
    "    print(\"A string contém apenas dígitos\")\n",
    "else:\n",
    "    print(\"A string não contém apenas dígitos\")"
   ],
   "metadata": {
    "collapsed": false,
    "ExecuteTime": {
     "end_time": "2024-05-16T14:18:03.464236400Z",
     "start_time": "2024-05-16T14:18:03.426228Z"
    }
   }
  },
  {
   "cell_type": "markdown",
   "source": [
    "### Verificar se uma String Contém Apenas Letras\n",
    "### Podemos usar isalpha() para verificar se uma string contém apenas letras.\n"
   ],
   "metadata": {
    "collapsed": false
   }
  },
  {
   "cell_type": "code",
   "execution_count": 31,
   "outputs": [
    {
     "name": "stdout",
     "output_type": "stream",
     "text": [
      "A string contém apenas letras\n"
     ]
    }
   ],
   "source": [
    "nome = \"João\"\n",
    "if nome.isalpha():\n",
    "    print(\"A string contém apenas letras\")\n",
    "else:\n",
    "    print(\"A string não contém apenas letras\")"
   ],
   "metadata": {
    "collapsed": false,
    "ExecuteTime": {
     "end_time": "2024-05-16T14:18:31.982098800Z",
     "start_time": "2024-05-16T14:18:31.965670Z"
    }
   }
  },
  {
   "cell_type": "code",
   "execution_count": 30,
   "outputs": [
    {
     "name": "stdout",
     "output_type": "stream",
     "text": [
      "A string não contém apenas letras\n"
     ]
    }
   ],
   "source": [
    "nome = \"João123\"\n",
    "if nome.isalpha():\n",
    "    print(\"A string contém apenas letras\")\n",
    "else:\n",
    "    print(\"A string não contém apenas letras\")"
   ],
   "metadata": {
    "collapsed": false,
    "ExecuteTime": {
     "end_time": "2024-05-16T14:18:22.095064100Z",
     "start_time": "2024-05-16T14:18:22.055053Z"
    }
   }
  },
  {
   "cell_type": "markdown",
   "source": [
    "### Verificar se uma String Contém Apenas Letras e Dígitos\n",
    "### Podemos usar isalnum() para verificar se uma string contém apenas letras e dígitos.\n"
   ],
   "metadata": {
    "collapsed": false
   }
  },
  {
   "cell_type": "code",
   "execution_count": 32,
   "outputs": [
    {
     "name": "stdout",
     "output_type": "stream",
     "text": [
      "A string contém apenas letras e dígitos\n"
     ]
    }
   ],
   "source": [
    "\n",
    "nome = \"João123\"\n",
    "if nome.isalnum():\n",
    "    print(\"A string contém apenas letras e dígitos\")\n",
    "else:\n",
    "    print(\"A string não contém apenas letras e dígitos\")"
   ],
   "metadata": {
    "collapsed": false,
    "ExecuteTime": {
     "end_time": "2024-05-16T14:18:44.919166400Z",
     "start_time": "2024-05-16T14:18:44.883845500Z"
    }
   }
  },
  {
   "cell_type": "code",
   "execution_count": 33,
   "outputs": [
    {
     "name": "stdout",
     "output_type": "stream",
     "text": [
      "A string não contém apenas letras e dígitos\n"
     ]
    }
   ],
   "source": [
    "nome = \"João123@\"\n",
    "if nome.isalnum():\n",
    "    print(\"A string contém apenas letras e dígitos\")\n",
    "else:\n",
    "    print(\"A string não contém apenas letras e dígitos\")"
   ],
   "metadata": {
    "collapsed": false,
    "ExecuteTime": {
     "end_time": "2024-05-16T14:18:47.981690600Z",
     "start_time": "2024-05-16T14:18:47.939681500Z"
    }
   }
  },
  {
   "cell_type": "markdown",
   "source": [
    "### Verificar se uma String Contém Apenas Espaços em Branco\n",
    "### Podemos usar isspace() para verificar se uma string contém apenas espaços em branco."
   ],
   "metadata": {
    "collapsed": false
   }
  },
  {
   "cell_type": "code",
   "execution_count": 52,
   "outputs": [
    {
     "name": "stdout",
     "output_type": "stream",
     "text": [
      "A string contém apenas espaços em branco\n"
     ]
    }
   ],
   "source": [
    "nome = \"   \"\n",
    "if nome.isspace():\n",
    "    print(\"A string contém apenas espaços em branco\")\n",
    "else:\n",
    "    print(\"A string não contém apenas espaços em branco\")\n"
   ],
   "metadata": {
    "collapsed": false,
    "ExecuteTime": {
     "end_time": "2024-05-18T11:39:29.981654400Z",
     "start_time": "2024-05-18T11:39:29.938276600Z"
    }
   }
  },
  {
   "cell_type": "markdown",
   "source": [
    "### Verificar se uma String Está em Maiúsculas\n",
    "### Podemos usar isupper() para verificar se uma string está em maiúsculas."
   ],
   "metadata": {
    "collapsed": false
   }
  },
  {
   "cell_type": "code",
   "execution_count": 37,
   "outputs": [
    {
     "name": "stdout",
     "output_type": "stream",
     "text": [
      "A string está em maiúsculas\n"
     ]
    }
   ],
   "source": [
    "nome = \"JOÃO\"\n",
    "if nome.isupper():\n",
    "    print(\"A string está em maiúsculas\")\n",
    "else:\n",
    "    print(\"A string não está em maiúsculas\")"
   ],
   "metadata": {
    "collapsed": false,
    "ExecuteTime": {
     "end_time": "2024-05-16T14:20:42.790848400Z",
     "start_time": "2024-05-16T14:20:42.773844300Z"
    }
   }
  },
  {
   "cell_type": "markdown",
   "source": [
    "### Verificar se uma String Está em Minúsculas\n",
    "### Podemos usar islower() para verificar se uma string está em minúsculas."
   ],
   "metadata": {
    "collapsed": false
   }
  },
  {
   "cell_type": "code",
   "execution_count": 36,
   "outputs": [
    {
     "name": "stdout",
     "output_type": "stream",
     "text": [
      "A string está em minúsculas\n"
     ]
    }
   ],
   "source": [
    "nome = \"joão\"\n",
    "if nome.islower():\n",
    "    print(\"A string está em minúsculas\")\n",
    "else:\n",
    "    print(\"A string não está em minúsculas\")"
   ],
   "metadata": {
    "collapsed": false,
    "ExecuteTime": {
     "end_time": "2024-05-16T14:20:41.147423400Z",
     "start_time": "2024-05-16T14:20:41.095264300Z"
    }
   }
  },
  {
   "cell_type": "markdown",
   "source": [
    "### Converter o Primeiro Caractere de uma String em Maiúsculas\n",
    "### Podemos usar capitalize() para converter o primeiro caractere de uma string em maiúsculas."
   ],
   "metadata": {
    "collapsed": false
   }
  },
  {
   "cell_type": "code",
   "execution_count": 38,
   "outputs": [
    {
     "name": "stdout",
     "output_type": "stream",
     "text": [
      "João\n",
      "Isto é uma frase\n"
     ]
    }
   ],
   "source": [
    "nome = \"joão\"\n",
    "nome = nome.capitalize()\n",
    "\n",
    "frase = \"isto é uma frase\"\n",
    "frase = frase.capitalize()\n",
    "\n",
    "print(nome)\n",
    "print(frase)"
   ],
   "metadata": {
    "collapsed": false,
    "ExecuteTime": {
     "end_time": "2024-05-16T14:21:05.595051Z",
     "start_time": "2024-05-16T14:21:05.555041100Z"
    }
   }
  },
  {
   "cell_type": "markdown",
   "source": [
    "### Converter o Primeiro Caractere de Cada Palavra de uma String em Maiúsculas\n",
    "### Podemos usar title() para converter o primeiro caractere de cada palavra de uma string em maiúsculas."
   ],
   "metadata": {
    "collapsed": false
   }
  },
  {
   "cell_type": "code",
   "execution_count": 39,
   "outputs": [
    {
     "name": "stdout",
     "output_type": "stream",
     "text": [
      "João Maio\n"
     ]
    }
   ],
   "source": [
    "\n",
    "nome = \"joão maio\"\n",
    "nome = nome.title()\n",
    "print(nome)"
   ],
   "metadata": {
    "collapsed": false,
    "ExecuteTime": {
     "end_time": "2024-05-16T14:21:23.904773100Z",
     "start_time": "2024-05-16T14:21:23.861969Z"
    }
   }
  },
  {
   "cell_type": "markdown",
   "source": [
    "### Inverter o Caso de Cada Caractere de uma String\n",
    "### Podemos usar swapcase() para inverter o caso de cada caractere de uma string."
   ],
   "metadata": {
    "collapsed": false
   }
  },
  {
   "cell_type": "code",
   "execution_count": 40,
   "outputs": [
    {
     "name": "stdout",
     "output_type": "stream",
     "text": [
      "jOÃO mAIO\n"
     ]
    }
   ],
   "source": [
    "nome = \"João Maio\"\n",
    "nome = nome.swapcase()\n",
    "print(nome)"
   ],
   "metadata": {
    "collapsed": false,
    "ExecuteTime": {
     "end_time": "2024-05-16T14:21:36.577675700Z",
     "start_time": "2024-05-16T14:21:36.523576700Z"
    }
   }
  },
  {
   "cell_type": "markdown",
   "source": [
    "### Remover Espaços em Branco do Início e do Fim de uma String\n",
    "### Podemos usar strip() para remover espaços em branco do início e do fim de uma string.\n"
   ],
   "metadata": {
    "collapsed": false
   }
  },
  {
   "cell_type": "code",
   "execution_count": 42,
   "outputs": [
    {
     "name": "stdout",
     "output_type": "stream",
     "text": [
      "João Maio\n"
     ]
    }
   ],
   "source": [
    "\n",
    "nome = \"   João Maio   \"\n",
    "nome = nome.strip()\n",
    "print(nome)"
   ],
   "metadata": {
    "collapsed": false,
    "ExecuteTime": {
     "end_time": "2024-05-16T14:21:56.602656500Z",
     "start_time": "2024-05-16T14:21:56.588034300Z"
    }
   }
  },
  {
   "cell_type": "markdown",
   "source": [
    "### Exercícios de Strings\n",
    "\n",
    "# 1. Escreva um programa que leia uma string e imprima quantos caracteres ela possui.\n",
    "# 2. Escreva um programa que leia uma string e imprima quantas letras maiúsculas ela possui.\n",
    "# 3. Escreva um programa que leia uma string e imprima quantas letras minúsculas ela possui.\n",
    "# 4. Escreva um programa que leia uma string e imprima quantos dígitos ela possui.\n",
    "# 5. Escreva um programa que leia uma string e imprima quantos caracteres são letras.\n",
    "# 6. Escreva um programa que leia uma string e imprima quantos caracteres são números.\n",
    "# 7. Escreva um programa que leia uma string e imprima quantos caracteres são espaços em branco.\n",
    "# 8. Escreva um programa que leia uma string e imprima a string sem os espaços em branco do início e do fim.\n",
    "# 9. Escreva um programa que leia uma string e imprima a string em maiúsculas.\n",
    "# 10. Escreva um programa que leia uma string e imprima a string em minúsculas.\n",
    "# 11. Escreva um programa que leia uma string e imprima a string invertida.\n",
    "# 12. Escreva um programa que leia uma string e imprima a string sem os espaços em branco.\n"
   ],
   "metadata": {
    "collapsed": false
   }
  },
  {
   "cell_type": "code",
   "execution_count": null,
   "outputs": [],
   "source": [
    "\n",
    "# 1. Escreva um programa que leia uma string e imprima quantos caracteres ela possui.\n",
    "string = input(\"Digite uma string: \")\n",
    "print(\"A string tem\", len(string), \"caracteres.\")"
   ],
   "metadata": {
    "collapsed": false
   }
  },
  {
   "cell_type": "code",
   "execution_count": null,
   "outputs": [],
   "source": [
    "\n",
    "# 2. Escreva um programa que leia uma string e imprima quantas letras maiúsculas ela possui.\n",
    "string = input(\"Digite uma string: \")\n",
    "contador = 0\n",
    "for caractere in string:\n",
    "    if caractere.isupper():\n",
    "        contador = contador + 1\n",
    "\n",
    "print(\"A string tem\", contador, \"letras maiúsculas.\")"
   ],
   "metadata": {
    "collapsed": false
   }
  },
  {
   "cell_type": "code",
   "execution_count": null,
   "outputs": [],
   "source": [
    "\n",
    "# 3. Escreva um programa que leia uma string e imprima quantas letras minúsculas ela possui.\n",
    "string = input(\"Digite uma string: \")\n",
    "contador = 0\n",
    "for caractere in string:\n",
    "    if caractere.islower():\n",
    "        contador = contador + 1\n",
    "\n",
    "print(\"A string tem\", contador, \"letras minúsculas.\")"
   ],
   "metadata": {
    "collapsed": false
   }
  },
  {
   "cell_type": "code",
   "execution_count": null,
   "outputs": [],
   "source": [
    "\n",
    "# 4. Escreva um programa que leia uma string e imprima quantos dígitos ela possui.\n",
    "string = input(\"Digite uma string: \")\n",
    "contador = 0\n",
    "for caractere in string:\n",
    "    if caractere.isdigit():\n",
    "        contador = contador + 1\n",
    "\n",
    "print(\"A string tem\", contador, \"dígitos.\")"
   ],
   "metadata": {
    "collapsed": false
   }
  },
  {
   "cell_type": "code",
   "execution_count": null,
   "outputs": [],
   "source": [
    "\n",
    "# 5. Escreva um programa que leia uma string e imprima quantos caracteres são letras.\n",
    "string = input(\"Digite uma string: \")\n",
    "contador = 0\n",
    "for caractere in string:\n",
    "    if caractere.isalpha():\n",
    "        contador = contador + 1\n",
    "\n",
    "print(\"A string tem\", contador, \"letras.\")"
   ],
   "metadata": {
    "collapsed": false
   }
  },
  {
   "cell_type": "code",
   "execution_count": null,
   "outputs": [],
   "source": [
    "\n",
    "# 6. Escreva um programa que leia uma string e imprima quantos caracteres são números.\n",
    "string = input(\"Digite uma string: \")\n",
    "contador = 0\n",
    "for caractere in string:\n",
    "    if caractere.isdigit():\n",
    "        contador = contador + 1\n",
    "\n",
    "print(\"A string tem\", contador, \"números.\")"
   ],
   "metadata": {
    "collapsed": false
   }
  },
  {
   "cell_type": "code",
   "execution_count": null,
   "outputs": [],
   "source": [
    "\n",
    "# 7. Escreva um programa que leia uma string e imprima quantos caracteres são espaços em branco.\n",
    "string = input(\"Digite uma string: \")\n",
    "contador = 0\n",
    "for caractere in string:\n",
    "    if caractere.isspace():\n",
    "        contador = contador + 1\n",
    "\n",
    "print(\"A string tem\", contador, \"espaços em branco.\")"
   ],
   "metadata": {
    "collapsed": false
   }
  },
  {
   "cell_type": "code",
   "execution_count": null,
   "outputs": [],
   "source": [
    "\n",
    "# 8. Escreva um programa que leia uma string e imprima a string sem os espaços em branco do início e do fim.\n",
    "string = input(\"Digite uma string: \")\n",
    "string = string.strip()\n",
    "print(string)"
   ],
   "metadata": {
    "collapsed": false
   }
  },
  {
   "cell_type": "code",
   "execution_count": null,
   "outputs": [],
   "source": [
    "\n",
    "# 9. Escreva um programa que leia uma string e imprima a string em maiúsculas.\n",
    "string = input(\"Digite uma string: \")\n",
    "string = string.upper()\n",
    "print(string)"
   ],
   "metadata": {
    "collapsed": false
   }
  },
  {
   "cell_type": "code",
   "execution_count": null,
   "outputs": [],
   "source": [
    "# 10. Escreva um programa que leia uma string e que divida a string em palavras.\n",
    "string = input(\"Digite uma frase: \")\n",
    "palavras = string.split()\n",
    "print(palavras)"
   ],
   "metadata": {
    "collapsed": false
   }
  },
  {
   "cell_type": "code",
   "execution_count": null,
   "outputs": [],
   "source": [
    "# 7 . Escreva um programa que leia 2 string e imprima a concatenação das duas strings.\n",
    "string1 = input(\"Enter the first string: \")\n",
    "string2 = input(\"Enter the second string: \")\n",
    "concatenated_string = string1 + \" \" + string2\n",
    "print(\"Concatenated string is:\", concatenated_string)\n"
   ],
   "metadata": {
    "collapsed": false
   }
  },
  {
   "cell_type": "code",
   "execution_count": null,
   "outputs": [],
   "source": [
    "# 8 e 9.  Write a Python program to extract and print the first 3 characters and the last 3 characters from a given string.\n",
    "\n",
    "input_string = input(\"Enter a string: \")\n",
    "first_three = input_string[:3]\n",
    "last_three = input_string[-3:]\n",
    "print(\"First three characters:\", first_three)\n",
    "print(\"Last three characters:\", last_three)"
   ],
   "metadata": {
    "collapsed": false
   }
  },
  {
   "cell_type": "code",
   "execution_count": null,
   "outputs": [],
   "source": [
    "#10  Write a Python program to reverse a string entered by the user.\n",
    "\n",
    "input_string = input(\"Enter a string: \")\n",
    "reversed_string = input_string[::-1]\n",
    "print(\"Reversed string is:\", reversed_string)"
   ],
   "metadata": {
    "collapsed": false
   }
  },
  {
   "cell_type": "code",
   "execution_count": null,
   "outputs": [],
   "source": [
    "#11 Write a Python program to check if a given string is a palindrome.\n",
    "\n",
    "input_string = input(\"Enter a string: \")\n",
    "if input_string == input_string[::-1]:\n",
    "    print(\"The string is a palindrome.\")\n",
    "else:\n",
    "    print(\"The string is not a palindrome.\")"
   ],
   "metadata": {
    "collapsed": false
   }
  },
  {
   "cell_type": "code",
   "execution_count": 1,
   "outputs": [
    {
     "name": "stdout",
     "output_type": "stream",
     "text": [
      "Modified string is: Eu haaje escrevi esta frase e estaau caam vaantade de a alterar\n"
     ]
    }
   ],
   "source": [
    "# Write a Python program to replace all occurrences of a specified substring with another substring in a given string.\n",
    "\n",
    "# 12 Escreva um programa Python para substituir todas as ocorrências de uma substring especificada por outra substring em uma string fornecida.\n",
    "\n",
    "input_string = input(\"Enter a string: \")\n",
    "old_substring = input(\"Enter the substring to be replaced: \")\n",
    "new_substring = input(\"Enter the new substring: \")\n",
    "modified_string = input_string.replace(old_substring, new_substring)\n",
    "print(\"Modified string is:\", modified_string)"
   ],
   "metadata": {
    "collapsed": false,
    "ExecuteTime": {
     "end_time": "2024-06-01T10:23:45.102225600Z",
     "start_time": "2024-06-01T10:23:35.981333700Z"
    }
   }
  },
  {
   "cell_type": "code",
   "execution_count": null,
   "outputs": [],
   "source": [
    "# 13 Escreva um programa Python para contar o número de palavras em uma string fornecida.\n",
    "\n",
    "input_string = input(\"Enter a string: \")\n",
    "words = input_string.split()\n",
    "word_count = len(words)\n",
    "print(\"Number of words in the string:\", word_count)"
   ],
   "metadata": {
    "collapsed": false
   }
  },
  {
   "cell_type": "code",
   "execution_count": 5,
   "outputs": [
    {
     "name": "stdout",
     "output_type": "stream",
     "text": [
      "ola -> 2\n",
      "ola -> 2\n",
      "eu -> 1\n",
      "estou -> 1\n",
      "bem -> 1\n"
     ]
    }
   ],
   "source": [
    "# 14 Escreva um programa Python para contar o número de ocorrências de cada palavra em uma string fornecida.\n",
    "\n",
    "input_string = input(\"Enter a string: \")\n",
    "words = input_string.split()\n",
    "word_count = {}\n",
    "for word in words:\n",
    "    #print the word and the number of times it appears\n",
    "    print(word, \"->\",  words.count(word))"
   ],
   "metadata": {
    "collapsed": false,
    "ExecuteTime": {
     "end_time": "2024-06-01T10:25:45.286071200Z",
     "start_time": "2024-06-01T10:25:40.630955600Z"
    }
   }
  },
  {
   "cell_type": "code",
   "execution_count": 2,
   "outputs": [
    {
     "name": "stdout",
     "output_type": "stream",
     "text": [
      "String without numbers: ola como estas\n"
     ]
    }
   ],
   "source": [
    "# Write a Python program to remove all numbers from a given string.\n",
    "\n",
    "input_string = input(\"Enter a string: \")\n",
    "result_string = \"\"\n",
    "for char in input_string:\n",
    "    if not char.isdigit():\n",
    "        result_string += char\n",
    "print(\"String without numbers:\", result_string)"
   ],
   "metadata": {
    "collapsed": false,
    "ExecuteTime": {
     "end_time": "2024-05-25T10:24:32.771449500Z",
     "start_time": "2024-05-25T10:24:20.111115100Z"
    }
   }
  },
  {
   "cell_type": "code",
   "execution_count": 5,
   "outputs": [
    {
     "name": "stdout",
     "output_type": "stream",
     "text": [
      "Frase\n",
      "exemplo\n",
      "para\n"
     ]
    }
   ],
   "source": [
    "\n",
    "frase = \"Frase exemplo para testar as capacidades de aceder a partes de uma string\"\n",
    "print(frase[0:5])\n",
    "print(frase[6:13])\n",
    "print(frase[14:18])\n"
   ],
   "metadata": {
    "collapsed": false,
    "ExecuteTime": {
     "end_time": "2024-05-25T10:24:52.943729Z",
     "start_time": "2024-05-25T10:24:52.907992Z"
    }
   }
  },
  {
   "cell_type": "code",
   "execution_count": 6,
   "outputs": [
    {
     "name": "stdout",
     "output_type": "stream",
     "text": [
      "fun is Python\n"
     ]
    }
   ],
   "source": [
    "sentence = \"Python is fun\"\n",
    "words = sentence.split()\n",
    "reversed_sentence = ' '.join(reversed(words))\n",
    "print(reversed_sentence)  # Output: \"fun is Python\"\n"
   ],
   "metadata": {
    "collapsed": false,
    "ExecuteTime": {
     "end_time": "2024-05-25T10:33:31.327778Z",
     "start_time": "2024-05-25T10:33:31.275765800Z"
    }
   }
  },
  {
   "cell_type": "code",
   "execution_count": 7,
   "outputs": [
    {
     "name": "stdout",
     "output_type": "stream",
     "text": [
      "nuf si nohtyP\n"
     ]
    }
   ],
   "source": [
    "sentence = \"Python is fun\"\n",
    "reversed_sentence = sentence[::-1]\n",
    "print(reversed_sentence)  # Output: \"fun is Python\"\n"
   ],
   "metadata": {
    "collapsed": false,
    "ExecuteTime": {
     "end_time": "2024-05-25T10:34:01.058087300Z",
     "start_time": "2024-05-25T10:34:01.032082500Z"
    }
   }
  },
  {
   "cell_type": "code",
   "execution_count": null,
   "outputs": [],
   "source": [],
   "metadata": {
    "collapsed": false
   }
  },
  {
   "cell_type": "markdown",
   "source": [
    "---\n"
   ],
   "metadata": {
    "collapsed": false
   }
  },
  {
   "cell_type": "markdown",
   "source": [
    "# try-except"
   ],
   "metadata": {
    "collapsed": false
   }
  },
  {
   "cell_type": "markdown",
   "source": [
    "### O bloco try-except é usado para lidar com exceções.\n",
    "### O bloco try contém o código que pode gerar uma exceção.\n",
    "### O bloco except contém o código que é executado se uma exceção for gerada.\n",
    "### Podemos ter vários blocos except para lidar com diferentes tipos de exceções."
   ],
   "metadata": {
    "collapsed": false
   }
  },
  {
   "cell_type": "code",
   "execution_count": 2,
   "outputs": [
    {
     "ename": "ZeroDivisionError",
     "evalue": "division by zero",
     "output_type": "error",
     "traceback": [
      "\u001B[1;31m---------------------------------------------------------------------------\u001B[0m",
      "\u001B[1;31mZeroDivisionError\u001B[0m                         Traceback (most recent call last)",
      "Cell \u001B[1;32mIn[2], line 1\u001B[0m\n\u001B[1;32m----> 1\u001B[0m x \u001B[38;5;241m=\u001B[39m \u001B[38;5;241;43m1\u001B[39;49m\u001B[43m \u001B[49m\u001B[38;5;241;43m/\u001B[39;49m\u001B[43m \u001B[49m\u001B[38;5;241;43m0\u001B[39;49m\n",
      "\u001B[1;31mZeroDivisionError\u001B[0m: division by zero"
     ]
    }
   ],
   "source": [
    "x = 1 / 0"
   ],
   "metadata": {
    "collapsed": false,
    "ExecuteTime": {
     "end_time": "2024-06-08T10:52:43.970532300Z",
     "start_time": "2024-06-08T10:52:43.597374700Z"
    }
   }
  },
  {
   "cell_type": "code",
   "execution_count": 1,
   "outputs": [
    {
     "name": "stdout",
     "output_type": "stream",
     "text": [
      "Erro: division by zero\n"
     ]
    }
   ],
   "source": [
    "try:\n",
    "    x = 1 / 0\n",
    "except Exception as e:\n",
    "    print(\"Erro:\", e)"
   ],
   "metadata": {
    "collapsed": false,
    "ExecuteTime": {
     "end_time": "2024-06-08T10:52:21.938592100Z",
     "start_time": "2024-06-08T10:52:21.914586300Z"
    }
   }
  },
  {
   "cell_type": "code",
   "execution_count": 3,
   "outputs": [
    {
     "name": "stdout",
     "output_type": "stream",
     "text": [
      "Erro: Divisão por zero\n"
     ]
    }
   ],
   "source": [
    "try:\n",
    "    x = 1 / 0\n",
    "except ZeroDivisionError as e:\n",
    "    print(\"Erro: Divisão por zero\")"
   ],
   "metadata": {
    "collapsed": false,
    "ExecuteTime": {
     "end_time": "2024-06-07T21:32:56.079652400Z",
     "start_time": "2024-06-07T21:32:56.000632100Z"
    }
   }
  },
  {
   "cell_type": "code",
   "execution_count": 3,
   "outputs": [
    {
     "name": "stdout",
     "output_type": "stream",
     "text": [
      "Erro: Nome não definido\n"
     ]
    }
   ],
   "source": [
    "try:\n",
    "    print(variavel)\n",
    "except ZeroDivisionError as e:\n",
    "    print(\"Erro: Divisão por zero\")\n",
    "except NameError as e:\n",
    "    print(\"Erro: Nome não definido\")"
   ],
   "metadata": {
    "collapsed": false,
    "ExecuteTime": {
     "end_time": "2024-06-08T10:54:22.146880100Z",
     "start_time": "2024-06-08T10:54:22.104870700Z"
    }
   }
  },
  {
   "cell_type": "markdown",
   "source": [
    "## O bloco try permite testar um bloco de código para detetar erros.\n",
    "## O bloco except permite tratar o erro.\n",
    "## O bloco else permite executar código quando não há erro.\n",
    "## O bloco finally permite executar código, independentemente do resultado dos blocos try e except."
   ],
   "metadata": {
    "collapsed": false
   }
  },
  {
   "cell_type": "code",
   "execution_count": 9,
   "outputs": [
    {
     "name": "stdout",
     "output_type": "stream",
     "text": [
      "Olá\n",
      "Nada deu errado\n",
      "O bloco finally é sempre executado\n"
     ]
    }
   ],
   "source": [
    "try:\n",
    "    print(\"Olá\")\n",
    "except:\n",
    "    print(\"Algo deu errado\")\n",
    "else:\n",
    "    print(\"Nada deu errado\")\n",
    "finally:\n",
    "    print(\"O bloco finally é sempre executado\")"
   ],
   "metadata": {
    "collapsed": false,
    "ExecuteTime": {
     "end_time": "2024-06-07T21:35:25.315086900Z",
     "start_time": "2024-06-07T21:35:25.254020100Z"
    }
   }
  },
  {
   "cell_type": "code",
   "execution_count": 10,
   "outputs": [
    {
     "name": "stdout",
     "output_type": "stream",
     "text": [
      "Olá\n",
      "Algo deu errado\n",
      "O bloco finally é sempre executado\n"
     ]
    }
   ],
   "source": [
    "try:\n",
    "    print(\"Olá\")\n",
    "    x = 1 / 0\n",
    "except:\n",
    "    print(\"Algo deu errado\")\n",
    "else:\n",
    "    print(\"Nada deu errado\")\n",
    "finally:\n",
    "    print(\"O bloco finally é sempre executado\")"
   ],
   "metadata": {
    "collapsed": false,
    "ExecuteTime": {
     "end_time": "2024-06-07T21:35:35.075476800Z",
     "start_time": "2024-06-07T21:35:35.017942600Z"
    }
   }
  },
  {
   "cell_type": "code",
   "execution_count": null,
   "outputs": [],
   "source": [],
   "metadata": {
    "collapsed": false
   }
  }
 ],
 "metadata": {
  "kernelspec": {
   "display_name": "Python 3 (ipykernel)",
   "language": "python",
   "name": "python3"
  },
  "language_info": {
   "codemirror_mode": {
    "name": "ipython",
    "version": 3
   },
   "file_extension": ".py",
   "mimetype": "text/x-python",
   "name": "python",
   "nbconvert_exporter": "python",
   "pygments_lexer": "ipython3",
   "version": "3.10.5"
  }
 },
 "nbformat": 4,
 "nbformat_minor": 4
}
